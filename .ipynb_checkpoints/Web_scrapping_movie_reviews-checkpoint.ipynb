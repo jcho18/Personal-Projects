{
 "cells": [
  {
   "cell_type": "code",
   "execution_count": 113,
   "metadata": {},
   "outputs": [],
   "source": [
    "import pandas as pd\n",
    "import numpy as np\n",
    "import re\n",
    "import requests\n",
    "from bs4 import BeautifulSoup as bs\n",
    "from tqdm import trange\n",
    "import matplotlib.pyplot as plt\n",
    "%matplotlib inline"
   ]
  },
  {
   "cell_type": "code",
   "execution_count": 114,
   "metadata": {},
   "outputs": [],
   "source": [
    "base_url = \"https://www.imdb.com/title/tt8579674/reviews?ref_=tt_ov_rt\"\n",
    "response = requests.get(base_url)\n",
    "soup = bs(response.text, 'html.parser')"
   ]
  },
  {
   "cell_type": "code",
   "execution_count": 116,
   "metadata": {},
   "outputs": [],
   "source": [
    "content = soup.select(\"#main > section > div.lister > div.lister-list > div\")"
   ]
  },
  {
   "cell_type": "code",
   "execution_count": 117,
   "metadata": {},
   "outputs": [],
   "source": [
    "review_container = content[-1].select('div.review-container')[0].get_text(strip=True)"
   ]
  },
  {
   "cell_type": "code",
   "execution_count": 118,
   "metadata": {},
   "outputs": [
    {
     "data": {
      "text/plain": [
       "\"6/10Great to look at but the plot holes!joehislop14 January 2020Warning: SpoilersThe effort Sam Mendes has gone to to create an authentic WW1 setting is astonishing. The scenes of the trenches, dead horses, bomb craters etc really put you in the scenes, and I was blown away by the film from a visual point of view. My problem is that the plot holes in the story were as big as some of the bomb craters. And after leaving, I realised they were too many and obvious to allow me to enjoy the film. (I'm about to reveal spoilers, so don't read on if you haven't seen it).\\nSo we all know that it's true that German forces retreated from trenches at times. As the distance between allied and opposing forces was as matter of yards in many cases, the fact they had abandoned their line would have been obvious over a relatively short period of time to the allies, because of air and recon intelligence.\\nWhen the rat triggered the trip wire, both men were literally on top of the trap. It was a big enough explosion to collapse the entire tunnel, but they both survived without a scratch.\\nAfter the pilot killed Blake, almost straight away, Schofield was suddenly joined by a huge troop of British Allies. Where did they come from? Why didn't they just take the message?\\nWhen they drop Schofield off, he immediately starts getting sniped, while the troops are presumably right next to him. Why didn't they shoot back to help? Where did they disappear to?\\nWhen Schofield is being chased, he kicks a door through in clear view of his pursuer, and the pursuer just runs on. Leaving Schofield to spend a random night with a woman and baby who happened to be surviving on their own with no food and water, hidden in the same ruins as German troops.\\nThere are more. I won't labour the point, but once you start seeing the flaws, they just all add up to make what is a beautiful film just too implausible for me.18 out of 30 found this helpful.Was this review helpful?Sign into vote.Permalink\""
      ]
     },
     "execution_count": 118,
     "metadata": {},
     "output_type": "execute_result"
    }
   ],
   "source": [
    "review_container"
   ]
  },
  {
   "cell_type": "code",
   "execution_count": 119,
   "metadata": {},
   "outputs": [
    {
     "name": "stdout",
     "output_type": "stream",
     "text": [
      "----------------------------------------------------------------------------------------------------\n",
      "10/10Review from a combat veteran.dr-peter-coldwell13 December 2019Last night COL Ferry and I (COL Coldwell, both USA) were able to watch the new WWI film, 1917, before it has national release. It is a cinematographic feast for the eyes, long expansive shots that follow the protagonists as they execute their mission. It does not hide the horrors that existed in trench warfare, it shows them for their brutality and abundance. (My great uncle died as a consequence of his service fighting in the trenches, mustard gas poisoning). In many ways it reminded me of Saving Private Ryan.For those who have served in combat (I have deployments to Iraq and Afghanistan), I cannot tell you if the film will be too difficult to watch, it might well be, especially if incoming artillery is a trigger. For me, as the camera travels a few inches above the dirt advancing slowly up a berm, my response was visceral. I was taken back to the patrols we walked in Afghanistan, not knowing what was around the corner; not relaxing heightened vigilance, not knowing if there would be an IED, a child wearing a suicide vest, a sniper taking aim. For the protagonists in this film (as for all who served and are serving) surviving the climb up the berm, there is no sigh of relief, no respite from the fear of uncertainty. They (we) survive to move forward to face more uncertainty.Watching allowed me to pay homage to my great uncle, and the approximate 800,000 other Brits who were killed or died as a consequence of their service. (Germany lost over 2 million soldiers in the war). Estimates put the total casualty numbers for both military and civilians at 40 million, half killed or died from wounds/infection.I rate this film as 10/10, for many reasons. Directing, acting, set design, cinematography, musical score, the raw emotion it invokes. Some critics have said they never felt a connection with the characters, I suspect they never served in combat. While the brotherhood (including female War Fighters) is strong, there is also a common characteristic possessed by all War Fighters, the ability to focus on a mission and suppress emotion, even as those around the Fighter fall. This was the quality I recognized in the actors and why the viewer doesn't \"bond\" with the main protagonists; we, the viewer, were on the mission with them, we grieve as we can and move on.Watch if you will, but know there is no pleasure in watching and the film will grab you and the beginning and not let you go. Even though we know the outcome of WWI, there is no joy, there is no peace. Watch because it will allow you a glimpse at the horror and brutality of war; reflect on their service and sacrifice. Note, as we (the viewer) are \"walking\" through the trenches, glancing shots of the young soldiers shows them with flat affect, isolation, almost apathy; this is the face of \"shell shock,\" what we know call post-traumatic stress disorder.For original WW1 footage, watch \"They Shall Never Grow Old,\" an exceptional documentary.813 out of 946 found this helpful.Was this review helpful?Sign into vote.Permalink\n",
      "----------------------------------------------------------------------------------------------------\n",
      "10/10I Wanted to Hate This Hauntingly Beautiful Gift of a Movietgrafflin5 January 2020I sat in a packed yet silent theater this morning and watched, what I believe to be, the next Academy Award winner for the Best Picture. I'm not at all a fan of war movies but I am a fan of great movies....and 1917 is a great movie.\n",
      "I have never been so mesmerized by set design and direction, the mass human emotion of this film is astonishingly captured and embedded magically in the audience. It keeps running through my mind...the poetry and beauty intertwined with the raw misery of war.\n",
      "Treat yourself....see this movie!209 out of 263 found this helpful.Was this review helpful?Sign into vote.Permalink\n",
      "----------------------------------------------------------------------------------------------------\n",
      "10/10Words fail megkdidaxi4 January 2020This film is overwhelming. I have nothing further to add, other than the compelling need for eternal remembrance to those who sacrificed their lives in any way, we can not fathom. We, citizens of any country, today, should feel ourselves lucky and blessed to exist. A Happy New Year to all. George from Hellas. NB: do not give it a second thought; watch it; even if this genre is not your cup of tea. After all, it is much more than a feature film. It's a massive dedication to unselfishness. Do yourself a favour and watch it. And then watch it once more.155 out of 197 found this helpful.Was this review helpful?Sign into vote.Permalink\n",
      "----------------------------------------------------------------------------------------------------\n",
      "10/10Don't listen to critics!allentyson-8923010 January 2020Don't listen to the critics saying this movie is boring. This movie is one of the most tense and exciting movies I've seen in years. Amazing cinematography and overall amazing experience of a movie.241 out of 313 found this helpful.Was this review helpful?Sign into vote.Permalink\n",
      "----------------------------------------------------------------------------------------------------\n",
      "9/10An achievementeevaivilo12 December 2019It's a stunning watch from start to finish. The amount of work that went into this film alone deserves your attendance, and even then, the story never stalls, and has a fair balance between war and humanity, and has some of the most incredible camera work I've seen in a while. It's hands down my favorite film of 2019.195 out of 253 found this helpful.Was this review helpful?Sign into vote.Permalink\n"
     ]
    }
   ],
   "source": [
    "reviews = []\n",
    "for i in range(5):\n",
    "    print(\"-\"*100)\n",
    "    review_container = content[i].select('div.review-container ')[0].get_text(strip=True)\n",
    "    print(review_container)\n",
    "    reviews.append(review_container)"
   ]
  },
  {
   "cell_type": "code",
   "execution_count": 120,
   "metadata": {},
   "outputs": [
    {
     "data": {
      "text/plain": [
       "25"
      ]
     },
     "execution_count": 120,
     "metadata": {},
     "output_type": "execute_result"
    }
   ],
   "source": [
    "content_count = len(content)\n",
    "content_count"
   ]
  },
  {
   "cell_type": "code",
   "execution_count": 121,
   "metadata": {},
   "outputs": [
    {
     "name": "stderr",
     "output_type": "stream",
     "text": [
      "100%|██████████| 25/25 [00:00<00:00, 1480.16it/s]\n"
     ]
    }
   ],
   "source": [
    "reviews = []\n",
    "for i in trange(content_count):\n",
    "    review_container = content[i].select('div.review-container ')[0].get_text(strip=True)\n",
    "    reviews.append(review_container)"
   ]
  },
  {
   "cell_type": "code",
   "execution_count": 122,
   "metadata": {},
   "outputs": [
    {
     "data": {
      "text/plain": [
       "(25, 1)"
      ]
     },
     "execution_count": 122,
     "metadata": {},
     "output_type": "execute_result"
    }
   ],
   "source": [
    "df = pd.DataFrame({\"text\":reviews})\n",
    "df.shape"
   ]
  },
  {
   "cell_type": "code",
   "execution_count": 123,
   "metadata": {},
   "outputs": [
    {
     "data": {
      "text/html": [
       "<div>\n",
       "<style scoped>\n",
       "    .dataframe tbody tr th:only-of-type {\n",
       "        vertical-align: middle;\n",
       "    }\n",
       "\n",
       "    .dataframe tbody tr th {\n",
       "        vertical-align: top;\n",
       "    }\n",
       "\n",
       "    .dataframe thead th {\n",
       "        text-align: right;\n",
       "    }\n",
       "</style>\n",
       "<table border=\"1\" class=\"dataframe\">\n",
       "  <thead>\n",
       "    <tr style=\"text-align: right;\">\n",
       "      <th></th>\n",
       "      <th>text</th>\n",
       "    </tr>\n",
       "  </thead>\n",
       "  <tbody>\n",
       "    <tr>\n",
       "      <th>0</th>\n",
       "      <td>10/10Review from a combat veteran.dr-peter-col...</td>\n",
       "    </tr>\n",
       "    <tr>\n",
       "      <th>1</th>\n",
       "      <td>10/10I Wanted to Hate This Hauntingly Beautifu...</td>\n",
       "    </tr>\n",
       "    <tr>\n",
       "      <th>2</th>\n",
       "      <td>10/10Words fail megkdidaxi4 January 2020This f...</td>\n",
       "    </tr>\n",
       "    <tr>\n",
       "      <th>3</th>\n",
       "      <td>10/10Don't listen to critics!allentyson-892301...</td>\n",
       "    </tr>\n",
       "    <tr>\n",
       "      <th>4</th>\n",
       "      <td>9/10An achievementeevaivilo12 December 2019It'...</td>\n",
       "    </tr>\n",
       "  </tbody>\n",
       "</table>\n",
       "</div>"
      ],
      "text/plain": [
       "                                                text\n",
       "0  10/10Review from a combat veteran.dr-peter-col...\n",
       "1  10/10I Wanted to Hate This Hauntingly Beautifu...\n",
       "2  10/10Words fail megkdidaxi4 January 2020This f...\n",
       "3  10/10Don't listen to critics!allentyson-892301...\n",
       "4  9/10An achievementeevaivilo12 December 2019It'..."
      ]
     },
     "execution_count": 123,
     "metadata": {},
     "output_type": "execute_result"
    }
   ],
   "source": [
    "df.head()"
   ]
  },
  {
   "cell_type": "code",
   "execution_count": 124,
   "metadata": {},
   "outputs": [
    {
     "data": {
      "text/html": [
       "<div>\n",
       "<style scoped>\n",
       "    .dataframe tbody tr th:only-of-type {\n",
       "        vertical-align: middle;\n",
       "    }\n",
       "\n",
       "    .dataframe tbody tr th {\n",
       "        vertical-align: top;\n",
       "    }\n",
       "\n",
       "    .dataframe thead th {\n",
       "        text-align: right;\n",
       "    }\n",
       "</style>\n",
       "<table border=\"1\" class=\"dataframe\">\n",
       "  <thead>\n",
       "    <tr style=\"text-align: right;\">\n",
       "      <th></th>\n",
       "      <th>text</th>\n",
       "    </tr>\n",
       "  </thead>\n",
       "  <tbody>\n",
       "    <tr>\n",
       "      <th>20</th>\n",
       "      <td>6/10Dissenting view: technical achievement, me...</td>\n",
       "    </tr>\n",
       "    <tr>\n",
       "      <th>21</th>\n",
       "      <td>10/10Not a war filmgoatrope6715 January 2020Fi...</td>\n",
       "    </tr>\n",
       "    <tr>\n",
       "      <th>22</th>\n",
       "      <td>8/10Worthy well shot well told but leaves me a...</td>\n",
       "    </tr>\n",
       "    <tr>\n",
       "      <th>23</th>\n",
       "      <td>7/10Style over substanceCtlAltDel12 January 20...</td>\n",
       "    </tr>\n",
       "    <tr>\n",
       "      <th>24</th>\n",
       "      <td>6/10Great to look at but the plot holes!joehis...</td>\n",
       "    </tr>\n",
       "  </tbody>\n",
       "</table>\n",
       "</div>"
      ],
      "text/plain": [
       "                                                 text\n",
       "20  6/10Dissenting view: technical achievement, me...\n",
       "21  10/10Not a war filmgoatrope6715 January 2020Fi...\n",
       "22  8/10Worthy well shot well told but leaves me a...\n",
       "23  7/10Style over substanceCtlAltDel12 January 20...\n",
       "24  6/10Great to look at but the plot holes!joehis..."
      ]
     },
     "execution_count": 124,
     "metadata": {},
     "output_type": "execute_result"
    }
   ],
   "source": [
    "df.tail()"
   ]
  },
  {
   "cell_type": "code",
   "execution_count": 125,
   "metadata": {},
   "outputs": [
    {
     "data": {
      "text/plain": [
       "'10'"
      ]
     },
     "execution_count": 125,
     "metadata": {},
     "output_type": "execute_result"
    }
   ],
   "source": [
    "df['text'][0][0:2]"
   ]
  },
  {
   "cell_type": "code",
   "execution_count": 131,
   "metadata": {},
   "outputs": [
    {
     "name": "stdout",
     "output_type": "stream",
     "text": [
      "10\n",
      "10\n",
      "10\n",
      "10\n",
      "9\n",
      "10\n",
      "10\n",
      "10\n",
      "10\n",
      "9\n",
      "9\n",
      "8\n",
      "6\n",
      "10\n",
      "7\n",
      "5\n",
      "7\n",
      "6\n",
      "8\n",
      "10\n",
      "6\n",
      "10\n",
      "8\n",
      "7\n",
      "6\n"
     ]
    }
   ],
   "source": [
    "for i in range(len(df)):\n",
    "    score = df['text'][i][0:2]\n",
    "    score = score.strip('/')\n",
    "    print(score)"
   ]
  },
  {
   "cell_type": "code",
   "execution_count": 127,
   "metadata": {},
   "outputs": [
    {
     "data": {
      "text/plain": [
       "'6'"
      ]
     },
     "execution_count": 127,
     "metadata": {},
     "output_type": "execute_result"
    }
   ],
   "source": [
    "score"
   ]
  },
  {
   "cell_type": "code",
   "execution_count": null,
   "metadata": {},
   "outputs": [],
   "source": []
  }
 ],
 "metadata": {
  "kernelspec": {
   "display_name": "Python 3",
   "language": "python",
   "name": "python3"
  },
  "language_info": {
   "codemirror_mode": {
    "name": "ipython",
    "version": 3
   },
   "file_extension": ".py",
   "mimetype": "text/x-python",
   "name": "python",
   "nbconvert_exporter": "python",
   "pygments_lexer": "ipython3",
   "version": "3.7.3"
  }
 },
 "nbformat": 4,
 "nbformat_minor": 2
}
