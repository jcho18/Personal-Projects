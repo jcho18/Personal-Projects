{
 "cells": [
  {
   "cell_type": "markdown",
   "metadata": {},
   "source": [
    "## Why is A/B testing important?"
   ]
  },
  {
   "cell_type": "markdown",
   "metadata": {},
   "source": [
    "- No guessing\n",
    "- Provides accurate answers - quickly\n",
    "- Allows to rapidly iterate on ideas\n",
    "- It is one of the only statistically sound ways to establish causal relationships"
   ]
  },
  {
   "cell_type": "markdown",
   "metadata": {},
   "source": [
    "## A/B test process"
   ]
  },
  {
   "cell_type": "markdown",
   "metadata": {},
   "source": [
    "1. Develop a hypothesis about your product or business\n",
    "2. Randomly assign users to two different groups\n",
    "3. Expose:\n",
    "    - Group 1 to the current product rules\n",
    "    - Group 2 to a product that tests the hypothesis\n",
    "4. Pick whichever performs better according to a set of KPIs"
   ]
  },
  {
   "cell_type": "markdown",
   "metadata": {},
   "source": [
    "## Where can A/B testing be used?"
   ]
  },
  {
   "cell_type": "markdown",
   "metadata": {},
   "source": [
    "Users + ideas -> A/B test\n",
    "- Testing impact of drugs\n",
    "- Incentivizing spending\n",
    "- Driving user growth\n",
    "- Many others"
   ]
  },
  {
   "cell_type": "markdown",
   "metadata": {},
   "source": [
    "## Key Performance Indicators (KPIs)"
   ]
  },
  {
   "cell_type": "markdown",
   "metadata": {},
   "source": [
    "- A/B Tests: Measure impact of changes on KPIs\n",
    "- KPIs: metrics important to an organization\n",
    "    - ex. For a drug company, these may be remission rates of a cancer, or like the likelihood of a particular side-effect\n",
    "    - ex. FOr a mobile game, it may be something like revenue, or play time per user"
   ]
  },
  {
   "cell_type": "markdown",
   "metadata": {},
   "source": [
    "### How to identify KPIs\n",
    "Experience + Domain Knowledge + Exploratory Data Analysis\n",
    "- Experience & Knowledge: what is important to a business\n",
    "- Exploratory Analysis: what metrics and relationships impact these KPIs"
   ]
  },
  {
   "cell_type": "markdown",
   "metadata": {},
   "source": [
    "## Example: meditation app\n",
    "\n",
    "### Services\n",
    "- Paid Subscription\n",
    "- In-app purchases\n",
    "\n",
    "### Goals/KPIs\n",
    "- Maintain high free -> paid conversion rate\n",
    "- The app is growing quickly and we are motivated to maintain a strong free-trial to paying user conversion rate"
   ]
  },
  {
   "cell_type": "markdown",
   "metadata": {},
   "source": [
    "### Dataset 1: User demographics"
   ]
  },
  {
   "cell_type": "code",
   "execution_count": 31,
   "metadata": {},
   "outputs": [],
   "source": [
    "import pandas as pd\n",
    "# load customer_demographics\n",
    "cd = pd.read_csv(\"/Users/jay/Desktop/Personal-Projects/ab_testing_dataset/user_demographics_v1.csv\")\n",
    "\n",
    "# load purchase_data\n",
    "subs = pd.read_csv(\"/Users/jay/Desktop/Personal-Projects/ab_testing_dataset/purchase_data_v1.csv\")"
   ]
  },
  {
   "cell_type": "code",
   "execution_count": 32,
   "metadata": {},
   "outputs": [
    {
     "data": {
      "text/html": [
       "<div>\n",
       "<style scoped>\n",
       "    .dataframe tbody tr th:only-of-type {\n",
       "        vertical-align: middle;\n",
       "    }\n",
       "\n",
       "    .dataframe tbody tr th {\n",
       "        vertical-align: top;\n",
       "    }\n",
       "\n",
       "    .dataframe thead th {\n",
       "        text-align: right;\n",
       "    }\n",
       "</style>\n",
       "<table border=\"1\" class=\"dataframe\">\n",
       "  <thead>\n",
       "    <tr style=\"text-align: right;\">\n",
       "      <th></th>\n",
       "      <th>uid</th>\n",
       "      <th>reg_date</th>\n",
       "      <th>device</th>\n",
       "      <th>gender</th>\n",
       "      <th>country</th>\n",
       "      <th>age</th>\n",
       "    </tr>\n",
       "  </thead>\n",
       "  <tbody>\n",
       "    <tr>\n",
       "      <th>0</th>\n",
       "      <td>54030035.0</td>\n",
       "      <td>2017-06-29T00:00:00Z</td>\n",
       "      <td>and</td>\n",
       "      <td>M</td>\n",
       "      <td>USA</td>\n",
       "      <td>19</td>\n",
       "    </tr>\n",
       "    <tr>\n",
       "      <th>1</th>\n",
       "      <td>72574201.0</td>\n",
       "      <td>2018-03-05T00:00:00Z</td>\n",
       "      <td>iOS</td>\n",
       "      <td>F</td>\n",
       "      <td>TUR</td>\n",
       "      <td>22</td>\n",
       "    </tr>\n",
       "    <tr>\n",
       "      <th>2</th>\n",
       "      <td>64187558.0</td>\n",
       "      <td>2016-02-07T00:00:00Z</td>\n",
       "      <td>iOS</td>\n",
       "      <td>M</td>\n",
       "      <td>USA</td>\n",
       "      <td>16</td>\n",
       "    </tr>\n",
       "    <tr>\n",
       "      <th>3</th>\n",
       "      <td>92513925.0</td>\n",
       "      <td>2017-05-25T00:00:00Z</td>\n",
       "      <td>and</td>\n",
       "      <td>M</td>\n",
       "      <td>BRA</td>\n",
       "      <td>41</td>\n",
       "    </tr>\n",
       "    <tr>\n",
       "      <th>4</th>\n",
       "      <td>99231338.0</td>\n",
       "      <td>2017-03-26T00:00:00Z</td>\n",
       "      <td>iOS</td>\n",
       "      <td>M</td>\n",
       "      <td>FRA</td>\n",
       "      <td>59</td>\n",
       "    </tr>\n",
       "  </tbody>\n",
       "</table>\n",
       "</div>"
      ],
      "text/plain": [
       "          uid              reg_date device gender country  age\n",
       "0  54030035.0  2017-06-29T00:00:00Z    and      M     USA   19\n",
       "1  72574201.0  2018-03-05T00:00:00Z    iOS      F     TUR   22\n",
       "2  64187558.0  2016-02-07T00:00:00Z    iOS      M     USA   16\n",
       "3  92513925.0  2017-05-25T00:00:00Z    and      M     BRA   41\n",
       "4  99231338.0  2017-03-26T00:00:00Z    iOS      M     FRA   59"
      ]
     },
     "execution_count": 32,
     "metadata": {},
     "output_type": "execute_result"
    }
   ],
   "source": [
    "cd.head()"
   ]
  },
  {
   "cell_type": "code",
   "execution_count": 33,
   "metadata": {},
   "outputs": [
    {
     "data": {
      "text/html": [
       "<div>\n",
       "<style scoped>\n",
       "    .dataframe tbody tr th:only-of-type {\n",
       "        vertical-align: middle;\n",
       "    }\n",
       "\n",
       "    .dataframe tbody tr th {\n",
       "        vertical-align: top;\n",
       "    }\n",
       "\n",
       "    .dataframe thead th {\n",
       "        text-align: right;\n",
       "    }\n",
       "</style>\n",
       "<table border=\"1\" class=\"dataframe\">\n",
       "  <thead>\n",
       "    <tr style=\"text-align: right;\">\n",
       "      <th></th>\n",
       "      <th>date</th>\n",
       "      <th>uid</th>\n",
       "      <th>sku</th>\n",
       "      <th>price</th>\n",
       "    </tr>\n",
       "  </thead>\n",
       "  <tbody>\n",
       "    <tr>\n",
       "      <th>0</th>\n",
       "      <td>2017-07-10</td>\n",
       "      <td>41195147</td>\n",
       "      <td>sku_three_499</td>\n",
       "      <td>499</td>\n",
       "    </tr>\n",
       "    <tr>\n",
       "      <th>1</th>\n",
       "      <td>2017-07-15</td>\n",
       "      <td>41195147</td>\n",
       "      <td>sku_three_499</td>\n",
       "      <td>499</td>\n",
       "    </tr>\n",
       "    <tr>\n",
       "      <th>2</th>\n",
       "      <td>2017-11-12</td>\n",
       "      <td>41195147</td>\n",
       "      <td>sku_four_599</td>\n",
       "      <td>599</td>\n",
       "    </tr>\n",
       "    <tr>\n",
       "      <th>3</th>\n",
       "      <td>2017-09-26</td>\n",
       "      <td>91591874</td>\n",
       "      <td>sku_two_299</td>\n",
       "      <td>299</td>\n",
       "    </tr>\n",
       "    <tr>\n",
       "      <th>4</th>\n",
       "      <td>2017-12-01</td>\n",
       "      <td>91591874</td>\n",
       "      <td>sku_four_599</td>\n",
       "      <td>599</td>\n",
       "    </tr>\n",
       "  </tbody>\n",
       "</table>\n",
       "</div>"
      ],
      "text/plain": [
       "         date       uid            sku  price\n",
       "0  2017-07-10  41195147  sku_three_499    499\n",
       "1  2017-07-15  41195147  sku_three_499    499\n",
       "2  2017-11-12  41195147   sku_four_599    599\n",
       "3  2017-09-26  91591874    sku_two_299    299\n",
       "4  2017-12-01  91591874   sku_four_599    599"
      ]
     },
     "execution_count": 33,
     "metadata": {},
     "output_type": "execute_result"
    }
   ],
   "source": [
    "subs.head()"
   ]
  },
  {
   "cell_type": "code",
   "execution_count": 34,
   "metadata": {},
   "outputs": [],
   "source": [
    "subs = subs.rename(columns={'date': 'subs_date'})"
   ]
  },
  {
   "cell_type": "code",
   "execution_count": 35,
   "metadata": {},
   "outputs": [
    {
     "data": {
      "text/html": [
       "<div>\n",
       "<style scoped>\n",
       "    .dataframe tbody tr th:only-of-type {\n",
       "        vertical-align: middle;\n",
       "    }\n",
       "\n",
       "    .dataframe tbody tr th {\n",
       "        vertical-align: top;\n",
       "    }\n",
       "\n",
       "    .dataframe thead th {\n",
       "        text-align: right;\n",
       "    }\n",
       "</style>\n",
       "<table border=\"1\" class=\"dataframe\">\n",
       "  <thead>\n",
       "    <tr style=\"text-align: right;\">\n",
       "      <th></th>\n",
       "      <th>subs_date</th>\n",
       "      <th>uid</th>\n",
       "      <th>sku</th>\n",
       "      <th>price</th>\n",
       "    </tr>\n",
       "  </thead>\n",
       "  <tbody>\n",
       "    <tr>\n",
       "      <th>0</th>\n",
       "      <td>2017-07-10</td>\n",
       "      <td>41195147</td>\n",
       "      <td>sku_three_499</td>\n",
       "      <td>499</td>\n",
       "    </tr>\n",
       "    <tr>\n",
       "      <th>1</th>\n",
       "      <td>2017-07-15</td>\n",
       "      <td>41195147</td>\n",
       "      <td>sku_three_499</td>\n",
       "      <td>499</td>\n",
       "    </tr>\n",
       "    <tr>\n",
       "      <th>2</th>\n",
       "      <td>2017-11-12</td>\n",
       "      <td>41195147</td>\n",
       "      <td>sku_four_599</td>\n",
       "      <td>599</td>\n",
       "    </tr>\n",
       "    <tr>\n",
       "      <th>3</th>\n",
       "      <td>2017-09-26</td>\n",
       "      <td>91591874</td>\n",
       "      <td>sku_two_299</td>\n",
       "      <td>299</td>\n",
       "    </tr>\n",
       "    <tr>\n",
       "      <th>4</th>\n",
       "      <td>2017-12-01</td>\n",
       "      <td>91591874</td>\n",
       "      <td>sku_four_599</td>\n",
       "      <td>599</td>\n",
       "    </tr>\n",
       "  </tbody>\n",
       "</table>\n",
       "</div>"
      ],
      "text/plain": [
       "    subs_date       uid            sku  price\n",
       "0  2017-07-10  41195147  sku_three_499    499\n",
       "1  2017-07-15  41195147  sku_three_499    499\n",
       "2  2017-11-12  41195147   sku_four_599    599\n",
       "3  2017-09-26  91591874    sku_two_299    299\n",
       "4  2017-12-01  91591874   sku_four_599    599"
      ]
     },
     "execution_count": 35,
     "metadata": {},
     "output_type": "execute_result"
    }
   ],
   "source": [
    "subs.head()"
   ]
  },
  {
   "cell_type": "code",
   "execution_count": 36,
   "metadata": {},
   "outputs": [
    {
     "data": {
      "text/html": [
       "<div>\n",
       "<style scoped>\n",
       "    .dataframe tbody tr th:only-of-type {\n",
       "        vertical-align: middle;\n",
       "    }\n",
       "\n",
       "    .dataframe tbody tr th {\n",
       "        vertical-align: top;\n",
       "    }\n",
       "\n",
       "    .dataframe thead th {\n",
       "        text-align: right;\n",
       "    }\n",
       "</style>\n",
       "<table border=\"1\" class=\"dataframe\">\n",
       "  <thead>\n",
       "    <tr style=\"text-align: right;\">\n",
       "      <th></th>\n",
       "      <th>subs_date</th>\n",
       "      <th>uid</th>\n",
       "      <th>sku</th>\n",
       "      <th>price</th>\n",
       "    </tr>\n",
       "  </thead>\n",
       "  <tbody>\n",
       "    <tr>\n",
       "      <th>5370</th>\n",
       "      <td>2017-10-20</td>\n",
       "      <td>92513925</td>\n",
       "      <td>sku_three_499</td>\n",
       "      <td>499</td>\n",
       "    </tr>\n",
       "    <tr>\n",
       "      <th>9003</th>\n",
       "      <td>2017-05-29</td>\n",
       "      <td>92513925</td>\n",
       "      <td>sku_two_299</td>\n",
       "      <td>299</td>\n",
       "    </tr>\n",
       "    <tr>\n",
       "      <th>9004</th>\n",
       "      <td>2017-08-23</td>\n",
       "      <td>92513925</td>\n",
       "      <td>sku_four_599</td>\n",
       "      <td>599</td>\n",
       "    </tr>\n",
       "    <tr>\n",
       "      <th>9005</th>\n",
       "      <td>2018-03-26</td>\n",
       "      <td>92513925</td>\n",
       "      <td>sku_six_1299</td>\n",
       "      <td>299</td>\n",
       "    </tr>\n",
       "  </tbody>\n",
       "</table>\n",
       "</div>"
      ],
      "text/plain": [
       "       subs_date       uid            sku  price\n",
       "5370  2017-10-20  92513925  sku_three_499    499\n",
       "9003  2017-05-29  92513925    sku_two_299    299\n",
       "9004  2017-08-23  92513925   sku_four_599    599\n",
       "9005  2018-03-26  92513925   sku_six_1299    299"
      ]
     },
     "execution_count": 36,
     "metadata": {},
     "output_type": "execute_result"
    }
   ],
   "source": [
    "subs.loc[subs.uid == 92513925.0]"
   ]
  },
  {
   "cell_type": "code",
   "execution_count": 37,
   "metadata": {},
   "outputs": [],
   "source": [
    "# merge customer_demographics (left) and customer_subscriptions (right)\n",
    "sub_data_demo = cd.merge(\n",
    "                  #right dataframe\n",
    "                  subs,\n",
    "                  # join type\n",
    "                  how='inner',\n",
    "                  # columns to match\n",
    "                  on=['uid'])"
   ]
  },
  {
   "cell_type": "code",
   "execution_count": 38,
   "metadata": {},
   "outputs": [
    {
     "data": {
      "text/html": [
       "<div>\n",
       "<style scoped>\n",
       "    .dataframe tbody tr th:only-of-type {\n",
       "        vertical-align: middle;\n",
       "    }\n",
       "\n",
       "    .dataframe tbody tr th {\n",
       "        vertical-align: top;\n",
       "    }\n",
       "\n",
       "    .dataframe thead th {\n",
       "        text-align: right;\n",
       "    }\n",
       "</style>\n",
       "<table border=\"1\" class=\"dataframe\">\n",
       "  <thead>\n",
       "    <tr style=\"text-align: right;\">\n",
       "      <th></th>\n",
       "      <th>uid</th>\n",
       "      <th>reg_date</th>\n",
       "      <th>device</th>\n",
       "      <th>gender</th>\n",
       "      <th>country</th>\n",
       "      <th>age</th>\n",
       "      <th>subs_date</th>\n",
       "      <th>sku</th>\n",
       "      <th>price</th>\n",
       "    </tr>\n",
       "  </thead>\n",
       "  <tbody>\n",
       "    <tr>\n",
       "      <th>0</th>\n",
       "      <td>92513925.0</td>\n",
       "      <td>2017-05-25T00:00:00Z</td>\n",
       "      <td>and</td>\n",
       "      <td>M</td>\n",
       "      <td>BRA</td>\n",
       "      <td>41</td>\n",
       "      <td>2017-10-20</td>\n",
       "      <td>sku_three_499</td>\n",
       "      <td>499</td>\n",
       "    </tr>\n",
       "    <tr>\n",
       "      <th>1</th>\n",
       "      <td>92513925.0</td>\n",
       "      <td>2017-05-25T00:00:00Z</td>\n",
       "      <td>and</td>\n",
       "      <td>M</td>\n",
       "      <td>BRA</td>\n",
       "      <td>41</td>\n",
       "      <td>2017-05-29</td>\n",
       "      <td>sku_two_299</td>\n",
       "      <td>299</td>\n",
       "    </tr>\n",
       "    <tr>\n",
       "      <th>2</th>\n",
       "      <td>92513925.0</td>\n",
       "      <td>2017-05-25T00:00:00Z</td>\n",
       "      <td>and</td>\n",
       "      <td>M</td>\n",
       "      <td>BRA</td>\n",
       "      <td>41</td>\n",
       "      <td>2017-08-23</td>\n",
       "      <td>sku_four_599</td>\n",
       "      <td>599</td>\n",
       "    </tr>\n",
       "    <tr>\n",
       "      <th>3</th>\n",
       "      <td>92513925.0</td>\n",
       "      <td>2017-05-25T00:00:00Z</td>\n",
       "      <td>and</td>\n",
       "      <td>M</td>\n",
       "      <td>BRA</td>\n",
       "      <td>41</td>\n",
       "      <td>2018-03-26</td>\n",
       "      <td>sku_six_1299</td>\n",
       "      <td>299</td>\n",
       "    </tr>\n",
       "    <tr>\n",
       "      <th>4</th>\n",
       "      <td>16377492.0</td>\n",
       "      <td>2016-10-16T00:00:00Z</td>\n",
       "      <td>and</td>\n",
       "      <td>M</td>\n",
       "      <td>BRA</td>\n",
       "      <td>20</td>\n",
       "      <td>2018-03-17</td>\n",
       "      <td>sku_one_199</td>\n",
       "      <td>199</td>\n",
       "    </tr>\n",
       "  </tbody>\n",
       "</table>\n",
       "</div>"
      ],
      "text/plain": [
       "          uid              reg_date device gender country  age   subs_date  \\\n",
       "0  92513925.0  2017-05-25T00:00:00Z    and      M     BRA   41  2017-10-20   \n",
       "1  92513925.0  2017-05-25T00:00:00Z    and      M     BRA   41  2017-05-29   \n",
       "2  92513925.0  2017-05-25T00:00:00Z    and      M     BRA   41  2017-08-23   \n",
       "3  92513925.0  2017-05-25T00:00:00Z    and      M     BRA   41  2018-03-26   \n",
       "4  16377492.0  2016-10-16T00:00:00Z    and      M     BRA   20  2018-03-17   \n",
       "\n",
       "             sku  price  \n",
       "0  sku_three_499    499  \n",
       "1    sku_two_299    299  \n",
       "2   sku_four_599    599  \n",
       "3   sku_six_1299    299  \n",
       "4    sku_one_199    199  "
      ]
     },
     "execution_count": 38,
     "metadata": {},
     "output_type": "execute_result"
    }
   ],
   "source": [
    "sub_data_demo.head()"
   ]
  },
  {
   "cell_type": "markdown",
   "metadata": {},
   "source": [
    "### Group Data: .groupby()\n",
    "- by: fields to group by\n",
    "- axis: axis=0 will group by columns, axis=1 will group by rows\n",
    "- as_index: as_index=True will use group labels as index\n",
    "\n",
    "sub_data_grp = sub_data_demo.groupby(by=['country', 'device'],\n",
    "                                     axis=0,\n",
    "                                     as_index=False)"
   ]
  },
  {
   "cell_type": "markdown",
   "metadata": {},
   "source": [
    "### Aggregate data: .agg()\n",
    "- pass the name of an aggregation function to agg():\n",
    "\n",
    "sub_data_grp.price.agg('mean')\n",
    "- pass a list of names of aggregation functions:\n",
    "\n",
    "sub_data_grp.price.agg(['mean','median'])\n",
    "- pass a dictionary of column names and aggregation functions:\n",
    "\n",
    "sub_data_grp.agg({'price':['mean','max','min'],\n",
    "                  'age':['mean','max','min']})"
   ]
  },
  {
   "cell_type": "code",
   "execution_count": 39,
   "metadata": {},
   "outputs": [],
   "source": [
    "def truncated_mean(data):\n",
    "    \"\"\"Compute the mean exclusding outliers\"\"\"\n",
    "    top_val = data.quantile(.9)\n",
    "    bot_val = data.quantile(.1)\n",
    "    trunc_data = data[(data <= top_val) & (data >= bot_val)]\n",
    "    mean = trunc_data.mean()\n",
    "    return(mean)"
   ]
  },
  {
   "cell_type": "code",
   "execution_count": 42,
   "metadata": {},
   "outputs": [
    {
     "ename": "TypeError",
     "evalue": "Cannot compare type 'Timestamp' with type 'str'",
     "output_type": "error",
     "traceback": [
      "\u001b[0;31m---------------------------------------------------------------------------\u001b[0m",
      "\u001b[0;31mTypeError\u001b[0m                                 Traceback (most recent call last)",
      "\u001b[0;32m<ipython-input-42-7d1783236232>\u001b[0m in \u001b[0;36m<module>\u001b[0;34m\u001b[0m\n\u001b[1;32m      3\u001b[0m \u001b[0;34m\u001b[0m\u001b[0m\n\u001b[1;32m      4\u001b[0m \u001b[0;31m# Filter to only include users who registered before our max date\u001b[0m\u001b[0;34m\u001b[0m\u001b[0;34m\u001b[0m\u001b[0;34m\u001b[0m\u001b[0m\n\u001b[0;32m----> 5\u001b[0;31m \u001b[0mpurchase_data_filt\u001b[0m \u001b[0;34m=\u001b[0m \u001b[0mcd\u001b[0m\u001b[0;34m[\u001b[0m\u001b[0mcd\u001b[0m\u001b[0;34m.\u001b[0m\u001b[0mreg_date\u001b[0m \u001b[0;34m<\u001b[0m \u001b[0mmax_purchase_date\u001b[0m\u001b[0;34m]\u001b[0m\u001b[0;34m\u001b[0m\u001b[0;34m\u001b[0m\u001b[0m\n\u001b[0m\u001b[1;32m      6\u001b[0m \u001b[0;34m\u001b[0m\u001b[0m\n\u001b[1;32m      7\u001b[0m \u001b[0;31m# Filter to contain only purchases within the first 28 days of registration\u001b[0m\u001b[0;34m\u001b[0m\u001b[0;34m\u001b[0m\u001b[0;34m\u001b[0m\u001b[0m\n",
      "\u001b[0;32m//anaconda3/lib/python3.7/site-packages/pandas/core/ops.py\u001b[0m in \u001b[0;36mwrapper\u001b[0;34m(self, other, axis)\u001b[0m\n\u001b[1;32m   1764\u001b[0m \u001b[0;34m\u001b[0m\u001b[0m\n\u001b[1;32m   1765\u001b[0m             \u001b[0;32mwith\u001b[0m \u001b[0mnp\u001b[0m\u001b[0;34m.\u001b[0m\u001b[0merrstate\u001b[0m\u001b[0;34m(\u001b[0m\u001b[0mall\u001b[0m\u001b[0;34m=\u001b[0m\u001b[0;34m'ignore'\u001b[0m\u001b[0;34m)\u001b[0m\u001b[0;34m:\u001b[0m\u001b[0;34m\u001b[0m\u001b[0;34m\u001b[0m\u001b[0m\n\u001b[0;32m-> 1766\u001b[0;31m                 \u001b[0mres\u001b[0m \u001b[0;34m=\u001b[0m \u001b[0mna_op\u001b[0m\u001b[0;34m(\u001b[0m\u001b[0mvalues\u001b[0m\u001b[0;34m,\u001b[0m \u001b[0mother\u001b[0m\u001b[0;34m)\u001b[0m\u001b[0;34m\u001b[0m\u001b[0;34m\u001b[0m\u001b[0m\n\u001b[0m\u001b[1;32m   1767\u001b[0m             \u001b[0;32mif\u001b[0m \u001b[0mis_scalar\u001b[0m\u001b[0;34m(\u001b[0m\u001b[0mres\u001b[0m\u001b[0;34m)\u001b[0m\u001b[0;34m:\u001b[0m\u001b[0;34m\u001b[0m\u001b[0;34m\u001b[0m\u001b[0m\n\u001b[1;32m   1768\u001b[0m                 raise TypeError('Could not compare {typ} type with Series'\n",
      "\u001b[0;32m//anaconda3/lib/python3.7/site-packages/pandas/core/ops.py\u001b[0m in \u001b[0;36mna_op\u001b[0;34m(x, y)\u001b[0m\n\u001b[1;32m   1623\u001b[0m \u001b[0;34m\u001b[0m\u001b[0m\n\u001b[1;32m   1624\u001b[0m         \u001b[0;32mif\u001b[0m \u001b[0mis_object_dtype\u001b[0m\u001b[0;34m(\u001b[0m\u001b[0mx\u001b[0m\u001b[0;34m.\u001b[0m\u001b[0mdtype\u001b[0m\u001b[0;34m)\u001b[0m\u001b[0;34m:\u001b[0m\u001b[0;34m\u001b[0m\u001b[0;34m\u001b[0m\u001b[0m\n\u001b[0;32m-> 1625\u001b[0;31m             \u001b[0mresult\u001b[0m \u001b[0;34m=\u001b[0m \u001b[0m_comp_method_OBJECT_ARRAY\u001b[0m\u001b[0;34m(\u001b[0m\u001b[0mop\u001b[0m\u001b[0;34m,\u001b[0m \u001b[0mx\u001b[0m\u001b[0;34m,\u001b[0m \u001b[0my\u001b[0m\u001b[0;34m)\u001b[0m\u001b[0;34m\u001b[0m\u001b[0;34m\u001b[0m\u001b[0m\n\u001b[0m\u001b[1;32m   1626\u001b[0m \u001b[0;34m\u001b[0m\u001b[0m\n\u001b[1;32m   1627\u001b[0m         \u001b[0;32melif\u001b[0m \u001b[0mis_datetimelike_v_numeric\u001b[0m\u001b[0;34m(\u001b[0m\u001b[0mx\u001b[0m\u001b[0;34m,\u001b[0m \u001b[0my\u001b[0m\u001b[0;34m)\u001b[0m\u001b[0;34m:\u001b[0m\u001b[0;34m\u001b[0m\u001b[0;34m\u001b[0m\u001b[0m\n",
      "\u001b[0;32m//anaconda3/lib/python3.7/site-packages/pandas/core/ops.py\u001b[0m in \u001b[0;36m_comp_method_OBJECT_ARRAY\u001b[0;34m(op, x, y)\u001b[0m\n\u001b[1;32m   1601\u001b[0m         \u001b[0mresult\u001b[0m \u001b[0;34m=\u001b[0m \u001b[0mlibops\u001b[0m\u001b[0;34m.\u001b[0m\u001b[0mvec_compare\u001b[0m\u001b[0;34m(\u001b[0m\u001b[0mx\u001b[0m\u001b[0;34m,\u001b[0m \u001b[0my\u001b[0m\u001b[0;34m,\u001b[0m \u001b[0mop\u001b[0m\u001b[0;34m)\u001b[0m\u001b[0;34m\u001b[0m\u001b[0;34m\u001b[0m\u001b[0m\n\u001b[1;32m   1602\u001b[0m     \u001b[0;32melse\u001b[0m\u001b[0;34m:\u001b[0m\u001b[0;34m\u001b[0m\u001b[0;34m\u001b[0m\u001b[0m\n\u001b[0;32m-> 1603\u001b[0;31m         \u001b[0mresult\u001b[0m \u001b[0;34m=\u001b[0m \u001b[0mlibops\u001b[0m\u001b[0;34m.\u001b[0m\u001b[0mscalar_compare\u001b[0m\u001b[0;34m(\u001b[0m\u001b[0mx\u001b[0m\u001b[0;34m,\u001b[0m \u001b[0my\u001b[0m\u001b[0;34m,\u001b[0m \u001b[0mop\u001b[0m\u001b[0;34m)\u001b[0m\u001b[0;34m\u001b[0m\u001b[0;34m\u001b[0m\u001b[0m\n\u001b[0m\u001b[1;32m   1604\u001b[0m     \u001b[0;32mreturn\u001b[0m \u001b[0mresult\u001b[0m\u001b[0;34m\u001b[0m\u001b[0;34m\u001b[0m\u001b[0m\n\u001b[1;32m   1605\u001b[0m \u001b[0;34m\u001b[0m\u001b[0m\n",
      "\u001b[0;32mpandas/_libs/ops.pyx\u001b[0m in \u001b[0;36mpandas._libs.ops.scalar_compare\u001b[0;34m()\u001b[0m\n",
      "\u001b[0;32mpandas/_libs/tslibs/timestamps.pyx\u001b[0m in \u001b[0;36mpandas._libs.tslibs.timestamps._Timestamp.__richcmp__\u001b[0;34m()\u001b[0m\n",
      "\u001b[0;31mTypeError\u001b[0m: Cannot compare type 'Timestamp' with type 'str'"
     ]
    }
   ],
   "source": [
    "# Compute max_purchase_date\n",
    "max_purchase_date = current_date - timedelta(days=28)\n",
    "\n",
    "# Filter to only include users who registered before our max date\n",
    "purchase_data_filt = cd[cd.reg_date < max_purchase_date]\n",
    "\n",
    "# Filter to contain only purchases within the first 28 days of registration\n",
    "purchase_data_filt = purchase_data_filt[(purchase_data_filt.date <= \n",
    "                        purchase_data_filt.reg_date + timedelta(days=28))]\n",
    "\n",
    "# Output the mean price paid per purchase\n",
    "print(purchase_data_filt.price.mean())"
   ]
  },
  {
   "cell_type": "code",
   "execution_count": 2,
   "metadata": {},
   "outputs": [],
   "source": [
    "# # Set the max registration date to be one month before today\n",
    "# max_reg_date = current_date - timedelta(days=28)\n",
    "\n",
    "# # Find the month 1 values\n",
    "# month1 = np.where((purchase_data.reg_date < max_reg_date) &\n",
    "#                  (purchase_data.date < purchase_data.reg_date + timedelta(days=28)),\n",
    "#                   purchase_data.price, \n",
    "#                   np.NaN)\n",
    "                 \n",
    "# # Update the value in the DataFrame\n",
    "# purchase_data['month1'] = month1\n",
    "\n",
    "# # Group the data by gender and device \n",
    "# purchase_data_upd = purchase_data.groupby(by=['gender', 'device'], as_index=False) \n",
    "\n",
    "# # Aggregate the month1 and price data \n",
    "# purchase_summary = purchase_data_upd.agg(\n",
    "#                         {'month1': ['mean', 'median'],\n",
    "#                         'price': ['mean', 'median']})\n",
    "\n",
    "# # Examine the results \n",
    "# print(purchase_summary)"
   ]
  },
  {
   "cell_type": "markdown",
   "metadata": {},
   "source": [
    "## Exploratory Data Analysis"
   ]
  },
  {
   "cell_type": "markdown",
   "metadata": {},
   "source": [
    "### Example: Week Two Conversion Rate\n",
    "\n",
    "- Week 2 Conversion Rate Users who subscribe in the second week after the free trial\n",
    "- Users must have:\n",
    "    - Completed the free trial\n",
    "    - Not subscribed in the first week\n",
    "    - Had a full second week to subscribe or not"
   ]
  },
  {
   "cell_type": "markdown",
   "metadata": {},
   "source": [
    "#### Using the Timedelta class\n",
    "- Lapse Date: Date the trial ends for a given user"
   ]
  },
  {
   "cell_type": "code",
   "execution_count": 7,
   "metadata": {},
   "outputs": [],
   "source": [
    "# import pandas as pd\n",
    "# from datetime import timedelta"
   ]
  },
  {
   "cell_type": "code",
   "execution_count": 8,
   "metadata": {},
   "outputs": [],
   "source": [
    "# # Define the most recent date in our data\n",
    "# current_date = pd.to_datetime('2018-03-17')\n",
    "\n",
    "# # The last date a user could lapse be included\n",
    "# max_lapse_date = current_date - timedelta(days=14)\n",
    "\n",
    "# # Filter down to only only eligible users\n",
    "# conv_sub_data = sub_data_demo[sub_data_demo.lapse_date < max_lapse_date]"
   ]
  },
  {
   "cell_type": "markdown",
   "metadata": {},
   "source": [
    "#### Date Differences\n",
    "- Step 1: Filter to the relevant set of users\n",
    "- Step 2: Calculate the time between a users lapse and subscribed dates\n",
    "- Step 3: Convert the *sub_time* from a *timedelta* to an int"
   ]
  },
  {
   "cell_type": "code",
   "execution_count": 12,
   "metadata": {},
   "outputs": [],
   "source": [
    "# # How many days passed before the user subscribed\n",
    "# sub_time = conv_sub_data.subscription_date - conv_sub_data.lapse_date\n",
    "\n",
    "# # Save this value in our dataframe\n",
    "# conv_sub_data['sub_time'] = sub_time\n",
    "\n",
    "# # Extract the days field from the sub_time\n",
    "# conv_sub_data['sub_time'] = conv_sub_data.sub_time.dt.days"
   ]
  },
  {
   "cell_type": "markdown",
   "metadata": {},
   "source": [
    "#### Conversion rate calculation"
   ]
  },
  {
   "cell_type": "code",
   "execution_count": 13,
   "metadata": {},
   "outputs": [],
   "source": [
    "# # filter to users who have did not subscribe in the right window\n",
    "# conv_base = conv_sub_data[(conv_sub_data.sub_time.notnull())\n",
    "#                          | (conv_sub_data.sub_time > 7)]\n",
    "# total_users = len(conv_base)"
   ]
  },
  {
   "cell_type": "code",
   "execution_count": 14,
   "metadata": {},
   "outputs": [],
   "source": [
    "# total_subs = np.where(conv_sub_data.sub_time.notnull()\n",
    "#                      & (conv_base.sub_time <= 14), 1, 0)\n",
    "# total_subs = sum(total_subs)"
   ]
  },
  {
   "cell_type": "code",
   "execution_count": 15,
   "metadata": {},
   "outputs": [],
   "source": [
    "# conversion_rate = total_subs / total_users"
   ]
  },
  {
   "cell_type": "markdown",
   "metadata": {},
   "source": [
    "#### Plotting Time Series Data"
   ]
  },
  {
   "cell_type": "code",
   "execution_count": 16,
   "metadata": {},
   "outputs": [],
   "source": [
    "# # Group the data and aggregate first_week_purchases\n",
    "# user_purchases = user_purchases.groupby(by=['reg_date', 'uid']).agg({'first_week_purchases': ['sum']})\n",
    "\n",
    "# # Reset the indexes\n",
    "# user_purchases.columns = user_purchases.columns.droplevel(level=1)\n",
    "# user_purchases.reset_index(inplace=True)\n",
    "\n",
    "# # Find the average number of purchases per day by first-week users\n",
    "# user_purchases = user_purchases.groupby(by=['reg_date']).agg({'first_week_purchases': ['mean']})\n",
    "# user_purchases.columns = user_purchases.columns.droplevel(level=1)\n",
    "# user_purchases.reset_index(inplace=True)\n",
    "\n",
    "# # Plot the results\n",
    "# user_purchases.plot(x='reg_date', y='first_week_purchases')\n",
    "# plt.show()"
   ]
  },
  {
   "cell_type": "markdown",
   "metadata": {},
   "source": [
    "#### Pivoting the data"
   ]
  },
  {
   "cell_type": "code",
   "execution_count": 17,
   "metadata": {},
   "outputs": [],
   "source": [
    "# # Pivot the data\n",
    "# country_pivot = pd.pivot_table(user_purchases_country, \n",
    "#                                values=['first_week_purchases'], \n",
    "#                                columns=['country'], index=['reg_date'])\n",
    "# print(country_pivot.head())"
   ]
  },
  {
   "cell_type": "code",
   "execution_count": 18,
   "metadata": {},
   "outputs": [],
   "source": [
    "# # Pivot the data\n",
    "# device_pivot = pd.pivot_table(user_purchases_device, \n",
    "#                               values=['first_week_purchases'], \n",
    "#                               columns=['device'], index=['reg_date'])\n",
    "# print(device_pivot.head())"
   ]
  },
  {
   "cell_type": "markdown",
   "metadata": {},
   "source": [
    "#### Examining Different cohorts"
   ]
  },
  {
   "cell_type": "code",
   "execution_count": 19,
   "metadata": {},
   "outputs": [],
   "source": [
    "# # Plot the average first week purchases for each country by registration date\n",
    "# country_pivot.plot(x='reg_date', y=['USA', 'CAN', 'FRA', 'BRA', 'TUR', 'DEU'])\n",
    "# plt.show()"
   ]
  },
  {
   "cell_type": "code",
   "execution_count": null,
   "metadata": {},
   "outputs": [],
   "source": []
  }
 ],
 "metadata": {
  "kernelspec": {
   "display_name": "Python 3",
   "language": "python",
   "name": "python3"
  },
  "language_info": {
   "codemirror_mode": {
    "name": "ipython",
    "version": 3
   },
   "file_extension": ".py",
   "mimetype": "text/x-python",
   "name": "python",
   "nbconvert_exporter": "python",
   "pygments_lexer": "ipython3",
   "version": "3.7.3"
  }
 },
 "nbformat": 4,
 "nbformat_minor": 2
}
