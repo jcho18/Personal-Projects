{
 "cells": [
  {
   "cell_type": "markdown",
   "metadata": {},
   "source": [
    "# [Canada and provinces, seasonally adjusted at annual rates, monthly](https://open.canada.ca/data/en/dataset/b6bbdaa5-b104-4c9e-bae6-7d7fd7500185)\n",
    "* https://open.canada.ca/data/en/dataset/b6bbdaa5-b104-4c9e-bae6-7d7fd7500185"
   ]
  },
  {
   "cell_type": "code",
   "execution_count": 2,
   "metadata": {},
   "outputs": [],
   "source": [
    "#Importing Packages\n",
    "import pandas as pd\n",
    "import matplotlib.pyplot as plt\n",
    "import seaborn as sns\n",
    "import numpy as np\n",
    "import scipy.stats as st\n",
    "\n",
    "%matplotlib inline"
   ]
  },
  {
   "cell_type": "code",
   "execution_count": 3,
   "metadata": {},
   "outputs": [
    {
     "data": {
      "text/html": [
       "<div>\n",
       "<style scoped>\n",
       "    .dataframe tbody tr th:only-of-type {\n",
       "        vertical-align: middle;\n",
       "    }\n",
       "\n",
       "    .dataframe tbody tr th {\n",
       "        vertical-align: top;\n",
       "    }\n",
       "\n",
       "    .dataframe thead th {\n",
       "        text-align: right;\n",
       "    }\n",
       "</style>\n",
       "<table border=\"1\" class=\"dataframe\">\n",
       "  <thead>\n",
       "    <tr style=\"text-align: right;\">\n",
       "      <th></th>\n",
       "      <th>REF_DATE</th>\n",
       "      <th>GEO</th>\n",
       "      <th>DGUID</th>\n",
       "      <th>UOM</th>\n",
       "      <th>UOM_ID</th>\n",
       "      <th>SCALAR_FACTOR</th>\n",
       "      <th>SCALAR_ID</th>\n",
       "      <th>VECTOR</th>\n",
       "      <th>COORDINATE</th>\n",
       "      <th>VALUE</th>\n",
       "      <th>STATUS</th>\n",
       "      <th>SYMBOL</th>\n",
       "      <th>TERMINATED</th>\n",
       "      <th>DECIMALS</th>\n",
       "    </tr>\n",
       "  </thead>\n",
       "  <tbody>\n",
       "    <tr>\n",
       "      <th>0</th>\n",
       "      <td>1990-01</td>\n",
       "      <td>Canada</td>\n",
       "      <td>2016A000011124</td>\n",
       "      <td>Units</td>\n",
       "      <td>300</td>\n",
       "      <td>thousands</td>\n",
       "      <td>3</td>\n",
       "      <td>v52300198</td>\n",
       "      <td>1</td>\n",
       "      <td>38.975</td>\n",
       "      <td>NaN</td>\n",
       "      <td>NaN</td>\n",
       "      <td>NaN</td>\n",
       "      <td>3</td>\n",
       "    </tr>\n",
       "    <tr>\n",
       "      <th>1</th>\n",
       "      <td>1990-01</td>\n",
       "      <td>Atlantic provinces</td>\n",
       "      <td>2016A00011</td>\n",
       "      <td>Units</td>\n",
       "      <td>300</td>\n",
       "      <td>thousands</td>\n",
       "      <td>3</td>\n",
       "      <td>v52300199</td>\n",
       "      <td>2</td>\n",
       "      <td>7.239</td>\n",
       "      <td>NaN</td>\n",
       "      <td>NaN</td>\n",
       "      <td>NaN</td>\n",
       "      <td>3</td>\n",
       "    </tr>\n",
       "    <tr>\n",
       "      <th>2</th>\n",
       "      <td>1990-01</td>\n",
       "      <td>Newfoundland and Labrador</td>\n",
       "      <td>2016A000210</td>\n",
       "      <td>Units</td>\n",
       "      <td>300</td>\n",
       "      <td>thousands</td>\n",
       "      <td>3</td>\n",
       "      <td>v52300200</td>\n",
       "      <td>3</td>\n",
       "      <td>3.197</td>\n",
       "      <td>NaN</td>\n",
       "      <td>NaN</td>\n",
       "      <td>NaN</td>\n",
       "      <td>3</td>\n",
       "    </tr>\n",
       "    <tr>\n",
       "      <th>3</th>\n",
       "      <td>1990-01</td>\n",
       "      <td>Prince Edward Island</td>\n",
       "      <td>2016A000211</td>\n",
       "      <td>Units</td>\n",
       "      <td>300</td>\n",
       "      <td>thousands</td>\n",
       "      <td>3</td>\n",
       "      <td>v52300201</td>\n",
       "      <td>4</td>\n",
       "      <td>0.329</td>\n",
       "      <td>NaN</td>\n",
       "      <td>NaN</td>\n",
       "      <td>NaN</td>\n",
       "      <td>3</td>\n",
       "    </tr>\n",
       "    <tr>\n",
       "      <th>4</th>\n",
       "      <td>1990-01</td>\n",
       "      <td>Nova Scotia</td>\n",
       "      <td>2016A000212</td>\n",
       "      <td>Units</td>\n",
       "      <td>300</td>\n",
       "      <td>thousands</td>\n",
       "      <td>3</td>\n",
       "      <td>v52300202</td>\n",
       "      <td>5</td>\n",
       "      <td>2.926</td>\n",
       "      <td>NaN</td>\n",
       "      <td>NaN</td>\n",
       "      <td>NaN</td>\n",
       "      <td>3</td>\n",
       "    </tr>\n",
       "  </tbody>\n",
       "</table>\n",
       "</div>"
      ],
      "text/plain": [
       "  REF_DATE                        GEO           DGUID    UOM  UOM_ID  \\\n",
       "0  1990-01                     Canada  2016A000011124  Units     300   \n",
       "1  1990-01         Atlantic provinces      2016A00011  Units     300   \n",
       "2  1990-01  Newfoundland and Labrador     2016A000210  Units     300   \n",
       "3  1990-01       Prince Edward Island     2016A000211  Units     300   \n",
       "4  1990-01                Nova Scotia     2016A000212  Units     300   \n",
       "\n",
       "  SCALAR_FACTOR  SCALAR_ID     VECTOR  COORDINATE   VALUE  STATUS  SYMBOL  \\\n",
       "0     thousands          3  v52300198           1  38.975     NaN     NaN   \n",
       "1     thousands          3  v52300199           2   7.239     NaN     NaN   \n",
       "2     thousands          3  v52300200           3   3.197     NaN     NaN   \n",
       "3     thousands          3  v52300201           4   0.329     NaN     NaN   \n",
       "4     thousands          3  v52300202           5   2.926     NaN     NaN   \n",
       "\n",
       "   TERMINATED  DECIMALS  \n",
       "0         NaN         3  \n",
       "1         NaN         3  \n",
       "2         NaN         3  \n",
       "3         NaN         3  \n",
       "4         NaN         3  "
      ]
     },
     "execution_count": 3,
     "metadata": {},
     "output_type": "execute_result"
    }
   ],
   "source": [
    "#Reading a file\n",
    "df = pd.read_csv('/Users/jay/Desktop/Personal-Projects/dataset/34100160.csv')\n",
    "df.head()"
   ]
  },
  {
   "cell_type": "code",
   "execution_count": 4,
   "metadata": {},
   "outputs": [
    {
     "name": "stdout",
     "output_type": "stream",
     "text": [
      "<class 'pandas.core.frame.DataFrame'>\n",
      "RangeIndex: 4680 entries, 0 to 4679\n",
      "Data columns (total 14 columns):\n",
      "REF_DATE         4680 non-null object\n",
      "GEO              4680 non-null object\n",
      "DGUID            4680 non-null object\n",
      "UOM              4680 non-null object\n",
      "UOM_ID           4680 non-null int64\n",
      "SCALAR_FACTOR    4680 non-null object\n",
      "SCALAR_ID        4680 non-null int64\n",
      "VECTOR           4680 non-null object\n",
      "COORDINATE       4680 non-null int64\n",
      "VALUE            4680 non-null float64\n",
      "STATUS           0 non-null float64\n",
      "SYMBOL           0 non-null float64\n",
      "TERMINATED       0 non-null float64\n",
      "DECIMALS         4680 non-null int64\n",
      "dtypes: float64(4), int64(4), object(6)\n",
      "memory usage: 512.0+ KB\n"
     ]
    }
   ],
   "source": [
    "df.info()"
   ]
  },
  {
   "cell_type": "code",
   "execution_count": 5,
   "metadata": {},
   "outputs": [
    {
     "data": {
      "text/plain": [
       "(4680, 14)"
      ]
     },
     "execution_count": 5,
     "metadata": {},
     "output_type": "execute_result"
    }
   ],
   "source": [
    "df.shape"
   ]
  },
  {
   "cell_type": "code",
   "execution_count": 6,
   "metadata": {},
   "outputs": [
    {
     "data": {
      "text/plain": [
       "REF_DATE            0\n",
       "GEO                 0\n",
       "DGUID               0\n",
       "UOM                 0\n",
       "UOM_ID              0\n",
       "SCALAR_FACTOR       0\n",
       "SCALAR_ID           0\n",
       "VECTOR              0\n",
       "COORDINATE          0\n",
       "VALUE               0\n",
       "STATUS           4680\n",
       "SYMBOL           4680\n",
       "TERMINATED       4680\n",
       "DECIMALS            0\n",
       "dtype: int64"
      ]
     },
     "execution_count": 6,
     "metadata": {},
     "output_type": "execute_result"
    }
   ],
   "source": [
    "#Checking missing values\n",
    "missing = df.isnull().sum()\n",
    "missing"
   ]
  },
  {
   "cell_type": "code",
   "execution_count": 7,
   "metadata": {},
   "outputs": [
    {
     "data": {
      "text/plain": [
       "<matplotlib.axes._subplots.AxesSubplot at 0x1051c7278>"
      ]
     },
     "execution_count": 7,
     "metadata": {},
     "output_type": "execute_result"
    },
    {
     "data": {
      "image/png": "[encoded data removed]",
      "text/plain": [
       "<Figure size 864x360 with 2 Axes>"
      ]
     },
     "metadata": {
      "needs_background": "light"
     },
     "output_type": "display_data"
    }
   ],
   "source": [
    "import missingno as msno\n",
    "\n",
    "msno.matrix(df, figsize=(12,5))"
   ]
  },
  {
   "cell_type": "code",
   "execution_count": 8,
   "metadata": {},
   "outputs": [
    {
     "data": {
      "text/plain": [
       "<matplotlib.axes._subplots.AxesSubplot at 0x1a18ef7da0>"
      ]
     },
     "execution_count": 8,
     "metadata": {},
     "output_type": "execute_result"
    },
    {
     "data": {
      "image/png": "[encoded data removed]",
      "text/plain": [
       "<Figure size 432x288 with 1 Axes>"
      ]
     },
     "metadata": {
      "needs_background": "light"
     },
     "output_type": "display_data"
    }
   ],
   "source": [
    "missing = missing[missing > 0]\n",
    "missing.sort_values(inplace = True)\n",
    "missing.plot.bar()"
   ]
  },
  {
   "cell_type": "markdown",
   "metadata": {},
   "source": [
    "Values are missing in column *STATUS*, *SYMBOL*, *TERMINATED* "
   ]
  },
  {
   "cell_type": "code",
   "execution_count": 9,
   "metadata": {},
   "outputs": [
    {
     "data": {
      "text/plain": [
       "(4680, 11)"
      ]
     },
     "execution_count": 9,
     "metadata": {},
     "output_type": "execute_result"
    }
   ],
   "source": [
    "df = df.drop(['STATUS', 'SYMBOL', 'TERMINATED'], axis = 1) \n",
    "df.shape"
   ]
  },
  {
   "cell_type": "code",
   "execution_count": 10,
   "metadata": {},
   "outputs": [
    {
     "data": {
      "text/plain": [
       "REF_DATE          360\n",
       "GEO                13\n",
       "DGUID              13\n",
       "UOM                 1\n",
       "UOM_ID              1\n",
       "SCALAR_FACTOR       1\n",
       "SCALAR_ID           1\n",
       "VECTOR             13\n",
       "COORDINATE         13\n",
       "VALUE            3404\n",
       "DECIMALS            1\n",
       "dtype: int64"
      ]
     },
     "execution_count": 10,
     "metadata": {},
     "output_type": "execute_result"
    }
   ],
   "source": [
    "df.nunique()"
   ]
  },
  {
   "cell_type": "code",
   "execution_count": 11,
   "metadata": {},
   "outputs": [],
   "source": [
    "df[\"REF_DATE\"] = df['REF_DATE'].astype('datetime64[ns]')"
   ]
  },
  {
   "cell_type": "code",
   "execution_count": 12,
   "metadata": {},
   "outputs": [],
   "source": [
    "df[\"year\"] = df[\"REF_DATE\"].dt.year\n",
    "df[\"month\"] = df[\"REF_DATE\"].dt.month"
   ]
  },
  {
   "cell_type": "code",
   "execution_count": 13,
   "metadata": {},
   "outputs": [
    {
     "data": {
      "text/html": [
       "<div>\n",
       "<style scoped>\n",
       "    .dataframe tbody tr th:only-of-type {\n",
       "        vertical-align: middle;\n",
       "    }\n",
       "\n",
       "    .dataframe tbody tr th {\n",
       "        vertical-align: top;\n",
       "    }\n",
       "\n",
       "    .dataframe thead th {\n",
       "        text-align: right;\n",
       "    }\n",
       "</style>\n",
       "<table border=\"1\" class=\"dataframe\">\n",
       "  <thead>\n",
       "    <tr style=\"text-align: right;\">\n",
       "      <th></th>\n",
       "      <th>REF_DATE</th>\n",
       "      <th>GEO</th>\n",
       "      <th>DGUID</th>\n",
       "      <th>UOM</th>\n",
       "      <th>UOM_ID</th>\n",
       "      <th>SCALAR_FACTOR</th>\n",
       "      <th>SCALAR_ID</th>\n",
       "      <th>VECTOR</th>\n",
       "      <th>COORDINATE</th>\n",
       "      <th>VALUE</th>\n",
       "      <th>DECIMALS</th>\n",
       "      <th>year</th>\n",
       "      <th>month</th>\n",
       "    </tr>\n",
       "  </thead>\n",
       "  <tbody>\n",
       "    <tr>\n",
       "      <th>0</th>\n",
       "      <td>1990-01-01</td>\n",
       "      <td>Canada</td>\n",
       "      <td>2016A000011124</td>\n",
       "      <td>Units</td>\n",
       "      <td>300</td>\n",
       "      <td>thousands</td>\n",
       "      <td>3</td>\n",
       "      <td>v52300198</td>\n",
       "      <td>1</td>\n",
       "      <td>38.975</td>\n",
       "      <td>3</td>\n",
       "      <td>1990</td>\n",
       "      <td>1</td>\n",
       "    </tr>\n",
       "    <tr>\n",
       "      <th>1</th>\n",
       "      <td>1990-01-01</td>\n",
       "      <td>Atlantic provinces</td>\n",
       "      <td>2016A00011</td>\n",
       "      <td>Units</td>\n",
       "      <td>300</td>\n",
       "      <td>thousands</td>\n",
       "      <td>3</td>\n",
       "      <td>v52300199</td>\n",
       "      <td>2</td>\n",
       "      <td>7.239</td>\n",
       "      <td>3</td>\n",
       "      <td>1990</td>\n",
       "      <td>1</td>\n",
       "    </tr>\n",
       "    <tr>\n",
       "      <th>2</th>\n",
       "      <td>1990-01-01</td>\n",
       "      <td>Newfoundland and Labrador</td>\n",
       "      <td>2016A000210</td>\n",
       "      <td>Units</td>\n",
       "      <td>300</td>\n",
       "      <td>thousands</td>\n",
       "      <td>3</td>\n",
       "      <td>v52300200</td>\n",
       "      <td>3</td>\n",
       "      <td>3.197</td>\n",
       "      <td>3</td>\n",
       "      <td>1990</td>\n",
       "      <td>1</td>\n",
       "    </tr>\n",
       "    <tr>\n",
       "      <th>3</th>\n",
       "      <td>1990-01-01</td>\n",
       "      <td>Prince Edward Island</td>\n",
       "      <td>2016A000211</td>\n",
       "      <td>Units</td>\n",
       "      <td>300</td>\n",
       "      <td>thousands</td>\n",
       "      <td>3</td>\n",
       "      <td>v52300201</td>\n",
       "      <td>4</td>\n",
       "      <td>0.329</td>\n",
       "      <td>3</td>\n",
       "      <td>1990</td>\n",
       "      <td>1</td>\n",
       "    </tr>\n",
       "    <tr>\n",
       "      <th>4</th>\n",
       "      <td>1990-01-01</td>\n",
       "      <td>Nova Scotia</td>\n",
       "      <td>2016A000212</td>\n",
       "      <td>Units</td>\n",
       "      <td>300</td>\n",
       "      <td>thousands</td>\n",
       "      <td>3</td>\n",
       "      <td>v52300202</td>\n",
       "      <td>5</td>\n",
       "      <td>2.926</td>\n",
       "      <td>3</td>\n",
       "      <td>1990</td>\n",
       "      <td>1</td>\n",
       "    </tr>\n",
       "  </tbody>\n",
       "</table>\n",
       "</div>"
      ],
      "text/plain": [
       "    REF_DATE                        GEO           DGUID    UOM  UOM_ID  \\\n",
       "0 1990-01-01                     Canada  2016A000011124  Units     300   \n",
       "1 1990-01-01         Atlantic provinces      2016A00011  Units     300   \n",
       "2 1990-01-01  Newfoundland and Labrador     2016A000210  Units     300   \n",
       "3 1990-01-01       Prince Edward Island     2016A000211  Units     300   \n",
       "4 1990-01-01                Nova Scotia     2016A000212  Units     300   \n",
       "\n",
       "  SCALAR_FACTOR  SCALAR_ID     VECTOR  COORDINATE   VALUE  DECIMALS  year  \\\n",
       "0     thousands          3  v52300198           1  38.975         3  1990   \n",
       "1     thousands          3  v52300199           2   7.239         3  1990   \n",
       "2     thousands          3  v52300200           3   3.197         3  1990   \n",
       "3     thousands          3  v52300201           4   0.329         3  1990   \n",
       "4     thousands          3  v52300202           5   2.926         3  1990   \n",
       "\n",
       "   month  \n",
       "0      1  \n",
       "1      1  \n",
       "2      1  \n",
       "3      1  \n",
       "4      1  "
      ]
     },
     "execution_count": 13,
     "metadata": {},
     "output_type": "execute_result"
    }
   ],
   "source": [
    "df.head()"
   ]
  },
  {
   "cell_type": "code",
   "execution_count": 14,
   "metadata": {},
   "outputs": [],
   "source": [
    "df = df.drop(['DGUID', 'UOM', 'UOM_ID','SCALAR_FACTOR', 'SCALAR_ID', 'VECTOR', 'COORDINATE', 'DECIMALS'], axis = 1) "
   ]
  },
  {
   "cell_type": "code",
   "execution_count": 15,
   "metadata": {},
   "outputs": [
    {
     "data": {
      "text/plain": [
       "(4680, 5)"
      ]
     },
     "execution_count": 15,
     "metadata": {},
     "output_type": "execute_result"
    }
   ],
   "source": [
    "df.shape"
   ]
  },
  {
   "cell_type": "code",
   "execution_count": 16,
   "metadata": {},
   "outputs": [
    {
     "data": {
      "text/html": [
       "<div>\n",
       "<style scoped>\n",
       "    .dataframe tbody tr th:only-of-type {\n",
       "        vertical-align: middle;\n",
       "    }\n",
       "\n",
       "    .dataframe tbody tr th {\n",
       "        vertical-align: top;\n",
       "    }\n",
       "\n",
       "    .dataframe thead th {\n",
       "        text-align: right;\n",
       "    }\n",
       "</style>\n",
       "<table border=\"1\" class=\"dataframe\">\n",
       "  <thead>\n",
       "    <tr style=\"text-align: right;\">\n",
       "      <th></th>\n",
       "      <th>REF_DATE</th>\n",
       "      <th>GEO</th>\n",
       "      <th>VALUE</th>\n",
       "      <th>year</th>\n",
       "      <th>month</th>\n",
       "    </tr>\n",
       "  </thead>\n",
       "  <tbody>\n",
       "    <tr>\n",
       "      <th>0</th>\n",
       "      <td>1990-01-01</td>\n",
       "      <td>Canada</td>\n",
       "      <td>38.975</td>\n",
       "      <td>1990</td>\n",
       "      <td>1</td>\n",
       "    </tr>\n",
       "    <tr>\n",
       "      <th>1</th>\n",
       "      <td>1990-01-01</td>\n",
       "      <td>Atlantic provinces</td>\n",
       "      <td>7.239</td>\n",
       "      <td>1990</td>\n",
       "      <td>1</td>\n",
       "    </tr>\n",
       "    <tr>\n",
       "      <th>2</th>\n",
       "      <td>1990-01-01</td>\n",
       "      <td>Newfoundland and Labrador</td>\n",
       "      <td>3.197</td>\n",
       "      <td>1990</td>\n",
       "      <td>1</td>\n",
       "    </tr>\n",
       "    <tr>\n",
       "      <th>3</th>\n",
       "      <td>1990-01-01</td>\n",
       "      <td>Prince Edward Island</td>\n",
       "      <td>0.329</td>\n",
       "      <td>1990</td>\n",
       "      <td>1</td>\n",
       "    </tr>\n",
       "    <tr>\n",
       "      <th>4</th>\n",
       "      <td>1990-01-01</td>\n",
       "      <td>Nova Scotia</td>\n",
       "      <td>2.926</td>\n",
       "      <td>1990</td>\n",
       "      <td>1</td>\n",
       "    </tr>\n",
       "  </tbody>\n",
       "</table>\n",
       "</div>"
      ],
      "text/plain": [
       "    REF_DATE                        GEO   VALUE  year  month\n",
       "0 1990-01-01                     Canada  38.975  1990      1\n",
       "1 1990-01-01         Atlantic provinces   7.239  1990      1\n",
       "2 1990-01-01  Newfoundland and Labrador   3.197  1990      1\n",
       "3 1990-01-01       Prince Edward Island   0.329  1990      1\n",
       "4 1990-01-01                Nova Scotia   2.926  1990      1"
      ]
     },
     "execution_count": 16,
     "metadata": {},
     "output_type": "execute_result"
    }
   ],
   "source": [
    "df.head()"
   ]
  },
  {
   "cell_type": "code",
   "execution_count": 17,
   "metadata": {},
   "outputs": [
    {
     "data": {
      "text/plain": [
       "<matplotlib.axes._subplots.AxesSubplot at 0x1a1a244c18>"
      ]
     },
     "execution_count": 17,
     "metadata": {},
     "output_type": "execute_result"
    },
    {
     "data": {
      "image/png": "[encoded data removed]",
      "text/plain": [
       "<Figure size 432x288 with 1 Axes>"
      ]
     },
     "metadata": {
      "needs_background": "light"
     },
     "output_type": "display_data"
    }
   ],
   "source": [
    "annual = df.groupby(['year']).mean().VALUE\n",
    "annual.plot()"
   ]
  },
  {
   "cell_type": "code",
   "execution_count": 18,
   "metadata": {},
   "outputs": [
    {
     "data": {
      "text/plain": [
       "<matplotlib.axes._subplots.AxesSubplot at 0x1a1a341b38>"
      ]
     },
     "execution_count": 18,
     "metadata": {},
     "output_type": "execute_result"
    },
    {
     "data": {
      "image/png": "[encoded data removed]",
      "text/plain": [
       "<Figure size 432x288 with 1 Axes>"
      ]
     },
     "metadata": {
      "needs_background": "light"
     },
     "output_type": "display_data"
    }
   ],
   "source": [
    "monthly = df.groupby(['month']).mean().VALUE\n",
    "monthly.plot()"
   ]
  },
  {
   "cell_type": "code",
   "execution_count": 19,
   "metadata": {},
   "outputs": [],
   "source": [
    "df_canada=df[(df.GEO == \"Canada\")]"
   ]
  },
  {
   "cell_type": "code",
   "execution_count": 20,
   "metadata": {},
   "outputs": [
    {
     "data": {
      "text/plain": [
       "<matplotlib.axes._subplots.AxesSubplot at 0x1a192a5f60>"
      ]
     },
     "execution_count": 20,
     "metadata": {},
     "output_type": "execute_result"
    },
    {
     "data": {
      "image/png": "[encoded data removed]",
      "text/plain": [
       "<Figure size 432x288 with 1 Axes>"
      ]
     },
     "metadata": {
      "needs_background": "light"
     },
     "output_type": "display_data"
    }
   ],
   "source": [
    "canada_annual = df_canada.groupby(['year']).mean()\n",
    "canada_annual.plot()"
   ]
  },
  {
   "cell_type": "code",
   "execution_count": 35,
   "metadata": {},
   "outputs": [],
   "source": [
    "df = df.drop(df[df.GEO == 'Canada'].index)"
   ]
  },
  {
   "cell_type": "code",
   "execution_count": 76,
   "metadata": {},
   "outputs": [
    {
     "data": {
      "text/html": [
       "<div>\n",
       "<style scoped>\n",
       "    .dataframe tbody tr th:only-of-type {\n",
       "        vertical-align: middle;\n",
       "    }\n",
       "\n",
       "    .dataframe tbody tr th {\n",
       "        vertical-align: top;\n",
       "    }\n",
       "\n",
       "    .dataframe thead th {\n",
       "        text-align: right;\n",
       "    }\n",
       "</style>\n",
       "<table border=\"1\" class=\"dataframe\">\n",
       "  <thead>\n",
       "    <tr style=\"text-align: right;\">\n",
       "      <th></th>\n",
       "      <th>REF_DATE</th>\n",
       "      <th>GEO</th>\n",
       "      <th>VALUE</th>\n",
       "      <th>year</th>\n",
       "      <th>month</th>\n",
       "    </tr>\n",
       "  </thead>\n",
       "  <tbody>\n",
       "    <tr>\n",
       "      <th>1</th>\n",
       "      <td>1990-01-01</td>\n",
       "      <td>Atlantic provinces</td>\n",
       "      <td>7.239</td>\n",
       "      <td>1990</td>\n",
       "      <td>1</td>\n",
       "    </tr>\n",
       "    <tr>\n",
       "      <th>2</th>\n",
       "      <td>1990-01-01</td>\n",
       "      <td>Newfoundland and Labrador</td>\n",
       "      <td>3.197</td>\n",
       "      <td>1990</td>\n",
       "      <td>1</td>\n",
       "    </tr>\n",
       "    <tr>\n",
       "      <th>3</th>\n",
       "      <td>1990-01-01</td>\n",
       "      <td>Prince Edward Island</td>\n",
       "      <td>0.329</td>\n",
       "      <td>1990</td>\n",
       "      <td>1</td>\n",
       "    </tr>\n",
       "    <tr>\n",
       "      <th>4</th>\n",
       "      <td>1990-01-01</td>\n",
       "      <td>Nova Scotia</td>\n",
       "      <td>2.926</td>\n",
       "      <td>1990</td>\n",
       "      <td>1</td>\n",
       "    </tr>\n",
       "    <tr>\n",
       "      <th>5</th>\n",
       "      <td>1990-01-01</td>\n",
       "      <td>New Brunswick</td>\n",
       "      <td>0.787</td>\n",
       "      <td>1990</td>\n",
       "      <td>1</td>\n",
       "    </tr>\n",
       "  </tbody>\n",
       "</table>\n",
       "</div>"
      ],
      "text/plain": [
       "    REF_DATE                        GEO  VALUE  year  month\n",
       "1 1990-01-01         Atlantic provinces  7.239  1990      1\n",
       "2 1990-01-01  Newfoundland and Labrador  3.197  1990      1\n",
       "3 1990-01-01       Prince Edward Island  0.329  1990      1\n",
       "4 1990-01-01                Nova Scotia  2.926  1990      1\n",
       "5 1990-01-01              New Brunswick  0.787  1990      1"
      ]
     },
     "execution_count": 76,
     "metadata": {},
     "output_type": "execute_result"
    }
   ],
   "source": [
    "df_90_00 = df[(df.year >= 1990) & (df.year <= 2000)]\n",
    "df_90_00.head()"
   ]
  },
  {
   "cell_type": "code",
   "execution_count": 77,
   "metadata": {},
   "outputs": [
    {
     "data": {
      "text/plain": [
       "<matplotlib.axes._subplots.AxesSubplot at 0x1a2393bac8>"
      ]
     },
     "execution_count": 77,
     "metadata": {},
     "output_type": "execute_result"
    },
    {
     "data": {
      "image/png": "[encoded data removed]",
      "text/plain": [
       "<Figure size 1440x576 with 2 Axes>"
      ]
     },
     "metadata": {
      "needs_background": "light"
     },
     "output_type": "display_data"
    }
   ],
   "source": [
    "fig, axes = plt.subplots(nrows=1, ncols=2)\n",
    "fig.set_size_inches(20,8)\n",
    "\n",
    "sns.barplot(data=df_90_00, x='year', y='VALUE', ax=axes[0])\n",
    "sns.barplot(data=df_90_00, x='month', y='VALUE', ax=axes[1])"
   ]
  },
  {
   "cell_type": "code",
   "execution_count": 90,
   "metadata": {},
   "outputs": [
    {
     "data": {
      "text/plain": [
       "<matplotlib.axes._subplots.AxesSubplot at 0x1a2db42cc0>"
      ]
     },
     "execution_count": 90,
     "metadata": {},
     "output_type": "execute_result"
    },
    {
     "data": {
      "image/png": "[encoded data removed]",
      "text/plain": [
       "<Figure size 2160x576 with 1 Axes>"
      ]
     },
     "metadata": {
      "needs_background": "light"
     },
     "output_type": "display_data"
    }
   ],
   "source": [
    "fig, axes = plt.subplots(nrows=1, ncols=1)\n",
    "fig.set_size_inches(30,8)\n",
    "\n",
    "sns.barplot(data=df_90_00, x='GEO', y='VALUE', ax=axes)"
   ]
  },
  {
   "cell_type": "code",
   "execution_count": 96,
   "metadata": {},
   "outputs": [
    {
     "data": {
      "text/plain": [
       "Series([], Name: VALUE, dtype: float64)"
      ]
     },
     "execution_count": 96,
     "metadata": {},
     "output_type": "execute_result"
    }
   ],
   "source": [
    "df_90_00[(df_90_00.year == '1990')].groupby('GEO').min().VALUE"
   ]
  },
  {
   "cell_type": "code",
   "execution_count": 100,
   "metadata": {},
   "outputs": [
    {
     "name": "stdout",
     "output_type": "stream",
     "text": [
      "1              Atlantic provinces\n",
      "2       Newfoundland and Labrador\n",
      "3            Prince Edward Island\n",
      "4                     Nova Scotia\n",
      "5                   New Brunswick\n",
      "6                          Quebec\n",
      "7                         Ontario\n",
      "8               Prairie provinces\n",
      "9                        Manitoba\n",
      "10                   Saskatchewan\n",
      "11                        Alberta\n",
      "12               British Columbia\n",
      "14             Atlantic provinces\n",
      "15      Newfoundland and Labrador\n",
      "16           Prince Edward Island\n",
      "17                    Nova Scotia\n",
      "18                  New Brunswick\n",
      "19                         Quebec\n",
      "20                        Ontario\n",
      "21              Prairie provinces\n",
      "22                       Manitoba\n",
      "23                   Saskatchewan\n",
      "24                        Alberta\n",
      "25               British Columbia\n",
      "27             Atlantic provinces\n",
      "28      Newfoundland and Labrador\n",
      "29           Prince Edward Island\n",
      "30                    Nova Scotia\n",
      "31                  New Brunswick\n",
      "32                         Quebec\n",
      "                  ...            \n",
      "4648                      Ontario\n",
      "4649            Prairie provinces\n",
      "4650                     Manitoba\n",
      "4651                 Saskatchewan\n",
      "4652                      Alberta\n",
      "4653             British Columbia\n",
      "4655           Atlantic provinces\n",
      "4656    Newfoundland and Labrador\n",
      "4657         Prince Edward Island\n",
      "4658                  Nova Scotia\n",
      "4659                New Brunswick\n",
      "4660                       Quebec\n",
      "4661                      Ontario\n",
      "4662            Prairie provinces\n",
      "4663                     Manitoba\n",
      "4664                 Saskatchewan\n",
      "4665                      Alberta\n",
      "4666             British Columbia\n",
      "4668           Atlantic provinces\n",
      "4669    Newfoundland and Labrador\n",
      "4670         Prince Edward Island\n",
      "4671                  Nova Scotia\n",
      "4672                New Brunswick\n",
      "4673                       Quebec\n",
      "4674                      Ontario\n",
      "4675            Prairie provinces\n",
      "4676                     Manitoba\n",
      "4677                 Saskatchewan\n",
      "4678                      Alberta\n",
      "4679             British Columbia\n",
      "Name: GEO, Length: 4320, dtype: object\n",
      "1              Atlantic provinces\n",
      "2       Newfoundland and Labrador\n",
      "3            Prince Edward Island\n",
      "4                     Nova Scotia\n",
      "5                   New Brunswick\n",
      "6                          Quebec\n",
      "7                         Ontario\n",
      "8               Prairie provinces\n",
      "9                        Manitoba\n",
      "10                   Saskatchewan\n",
      "11                        Alberta\n",
      "12               British Columbia\n",
      "14             Atlantic provinces\n",
      "15      Newfoundland and Labrador\n",
      "16           Prince Edward Island\n",
      "17                    Nova Scotia\n",
      "18                  New Brunswick\n",
      "19                         Quebec\n",
      "20                        Ontario\n",
      "21              Prairie provinces\n",
      "22                       Manitoba\n",
      "23                   Saskatchewan\n",
      "24                        Alberta\n",
      "25               British Columbia\n",
      "27             Atlantic provinces\n",
      "28      Newfoundland and Labrador\n",
      "29           Prince Edward Island\n",
      "30                    Nova Scotia\n",
      "31                  New Brunswick\n",
      "32                         Quebec\n",
      "                  ...            \n",
      "4648                      Ontario\n",
      "4649            Prairie provinces\n",
      "4650                     Manitoba\n",
      "4651                 Saskatchewan\n",
      "4652                      Alberta\n",
      "4653             British Columbia\n",
      "4655           Atlantic provinces\n",
      "4656    Newfoundland and Labrador\n",
      "4657         Prince Edward Island\n",
      "4658                  Nova Scotia\n",
      "4659                New Brunswick\n",
      "4660                       Quebec\n",
      "4661                      Ontario\n",
      "4662            Prairie provinces\n",
      "4663                     Manitoba\n",
      "4664                 Saskatchewan\n",
      "4665                      Alberta\n",
      "4666             British Columbia\n",
      "4668           Atlantic provinces\n",
      "4669    Newfoundland and Labrador\n",
      "4670         Prince Edward Island\n",
      "4671                  Nova Scotia\n",
      "4672                New Brunswick\n",
      "4673                       Quebec\n",
      "4674                      Ontario\n",
      "4675            Prairie provinces\n",
      "4676                     Manitoba\n",
      "4677                 Saskatchewan\n",
      "4678                      Alberta\n",
      "4679             British Columbia\n",
      "Name: GEO, Length: 4320, dtype: object\n",
      "1              Atlantic provinces\n",
      "2       Newfoundland and Labrador\n",
      "3            Prince Edward Island\n",
      "4                     Nova Scotia\n",
      "5                   New Brunswick\n",
      "6                          Quebec\n",
      "7                         Ontario\n",
      "8               Prairie provinces\n",
      "9                        Manitoba\n",
      "10                   Saskatchewan\n",
      "11                        Alberta\n",
      "12               British Columbia\n",
      "14             Atlantic provinces\n",
      "15      Newfoundland and Labrador\n",
      "16           Prince Edward Island\n",
      "17                    Nova Scotia\n",
      "18                  New Brunswick\n",
      "19                         Quebec\n",
      "20                        Ontario\n",
      "21              Prairie provinces\n",
      "22                       Manitoba\n",
      "23                   Saskatchewan\n",
      "24                        Alberta\n",
      "25               British Columbia\n",
      "27             Atlantic provinces\n",
      "28      Newfoundland and Labrador\n",
      "29           Prince Edward Island\n",
      "30                    Nova Scotia\n",
      "31                  New Brunswick\n",
      "32                         Quebec\n",
      "                  ...            \n",
      "4648                      Ontario\n",
      "4649            Prairie provinces\n",
      "4650                     Manitoba\n",
      "4651                 Saskatchewan\n",
      "4652                      Alberta\n",
      "4653             British Columbia\n",
      "4655           Atlantic provinces\n",
      "4656    Newfoundland and Labrador\n",
      "4657         Prince Edward Island\n",
      "4658                  Nova Scotia\n",
      "4659                New Brunswick\n",
      "4660                       Quebec\n",
      "4661                      Ontario\n",
      "4662            Prairie provinces\n",
      "4663                     Manitoba\n",
      "4664                 Saskatchewan\n",
      "4665                      Alberta\n",
      "4666             British Columbia\n",
      "4668           Atlantic provinces\n",
      "4669    Newfoundland and Labrador\n",
      "4670         Prince Edward Island\n",
      "4671                  Nova Scotia\n",
      "4672                New Brunswick\n",
      "4673                       Quebec\n",
      "4674                      Ontario\n",
      "4675            Prairie provinces\n",
      "4676                     Manitoba\n",
      "4677                 Saskatchewan\n",
      "4678                      Alberta\n",
      "4679             British Columbia\n",
      "Name: GEO, Length: 4320, dtype: object\n",
      "1              Atlantic provinces\n",
      "2       Newfoundland and Labrador\n",
      "3            Prince Edward Island\n",
      "4                     Nova Scotia\n",
      "5                   New Brunswick\n",
      "6                          Quebec\n",
      "7                         Ontario\n",
      "8               Prairie provinces\n",
      "9                        Manitoba\n",
      "10                   Saskatchewan\n",
      "11                        Alberta\n",
      "12               British Columbia\n",
      "14             Atlantic provinces\n",
      "15      Newfoundland and Labrador\n",
      "16           Prince Edward Island\n",
      "17                    Nova Scotia\n",
      "18                  New Brunswick\n",
      "19                         Quebec\n",
      "20                        Ontario\n",
      "21              Prairie provinces\n",
      "22                       Manitoba\n",
      "23                   Saskatchewan\n",
      "24                        Alberta\n",
      "25               British Columbia\n",
      "27             Atlantic provinces\n",
      "28      Newfoundland and Labrador\n",
      "29           Prince Edward Island\n",
      "30                    Nova Scotia\n",
      "31                  New Brunswick\n",
      "32                         Quebec\n",
      "                  ...            \n",
      "4648                      Ontario\n",
      "4649            Prairie provinces\n",
      "4650                     Manitoba\n",
      "4651                 Saskatchewan\n",
      "4652                      Alberta\n",
      "4653             British Columbia\n",
      "4655           Atlantic provinces\n",
      "4656    Newfoundland and Labrador\n",
      "4657         Prince Edward Island\n",
      "4658                  Nova Scotia\n",
      "4659                New Brunswick\n",
      "4660                       Quebec\n",
      "4661                      Ontario\n",
      "4662            Prairie provinces\n",
      "4663                     Manitoba\n",
      "4664                 Saskatchewan\n",
      "4665                      Alberta\n",
      "4666             British Columbia\n",
      "4668           Atlantic provinces\n",
      "4669    Newfoundland and Labrador\n",
      "4670         Prince Edward Island\n",
      "4671                  Nova Scotia\n",
      "4672                New Brunswick\n",
      "4673                       Quebec\n",
      "4674                      Ontario\n",
      "4675            Prairie provinces\n",
      "4676                     Manitoba\n",
      "4677                 Saskatchewan\n",
      "4678                      Alberta\n",
      "4679             British Columbia\n",
      "Name: GEO, Length: 4320, dtype: object\n",
      "1              Atlantic provinces\n",
      "2       Newfoundland and Labrador\n",
      "3            Prince Edward Island\n",
      "4                     Nova Scotia\n",
      "5                   New Brunswick\n",
      "6                          Quebec\n",
      "7                         Ontario\n",
      "8               Prairie provinces\n",
      "9                        Manitoba\n",
      "10                   Saskatchewan\n",
      "11                        Alberta\n",
      "12               British Columbia\n",
      "14             Atlantic provinces\n",
      "15      Newfoundland and Labrador\n",
      "16           Prince Edward Island\n",
      "17                    Nova Scotia\n",
      "18                  New Brunswick\n",
      "19                         Quebec\n",
      "20                        Ontario\n",
      "21              Prairie provinces\n",
      "22                       Manitoba\n",
      "23                   Saskatchewan\n",
      "24                        Alberta\n",
      "25               British Columbia\n",
      "27             Atlantic provinces\n",
      "28      Newfoundland and Labrador\n",
      "29           Prince Edward Island\n",
      "30                    Nova Scotia\n",
      "31                  New Brunswick\n",
      "32                         Quebec\n",
      "                  ...            \n",
      "4648                      Ontario\n",
      "4649            Prairie provinces\n",
      "4650                     Manitoba\n",
      "4651                 Saskatchewan\n",
      "4652                      Alberta\n",
      "4653             British Columbia\n",
      "4655           Atlantic provinces\n",
      "4656    Newfoundland and Labrador\n",
      "4657         Prince Edward Island\n",
      "4658                  Nova Scotia\n",
      "4659                New Brunswick\n",
      "4660                       Quebec\n",
      "4661                      Ontario\n",
      "4662            Prairie provinces\n",
      "4663                     Manitoba\n",
      "4664                 Saskatchewan\n",
      "4665                      Alberta\n",
      "4666             British Columbia\n",
      "4668           Atlantic provinces\n",
      "4669    Newfoundland and Labrador\n",
      "4670         Prince Edward Island\n",
      "4671                  Nova Scotia\n",
      "4672                New Brunswick\n",
      "4673                       Quebec\n",
      "4674                      Ontario\n",
      "4675            Prairie provinces\n",
      "4676                     Manitoba\n",
      "4677                 Saskatchewan\n",
      "4678                      Alberta\n",
      "4679             British Columbia\n",
      "Name: GEO, Length: 4320, dtype: object\n"
     ]
    }
   ],
   "source": [
    "i = 0\n",
    "for i in df[(df.year == '1990')]:\n",
    "    df."
   ]
  },
  {
   "cell_type": "code",
   "execution_count": 81,
   "metadata": {},
   "outputs": [
    {
     "data": {
      "text/html": [
       "<div>\n",
       "<style scoped>\n",
       "    .dataframe tbody tr th:only-of-type {\n",
       "        vertical-align: middle;\n",
       "    }\n",
       "\n",
       "    .dataframe tbody tr th {\n",
       "        vertical-align: top;\n",
       "    }\n",
       "\n",
       "    .dataframe thead th {\n",
       "        text-align: right;\n",
       "    }\n",
       "</style>\n",
       "<table border=\"1\" class=\"dataframe\">\n",
       "  <thead>\n",
       "    <tr style=\"text-align: right;\">\n",
       "      <th></th>\n",
       "      <th>REF_DATE</th>\n",
       "      <th>GEO</th>\n",
       "      <th>VALUE</th>\n",
       "      <th>year</th>\n",
       "      <th>month</th>\n",
       "    </tr>\n",
       "  </thead>\n",
       "  <tbody>\n",
       "    <tr>\n",
       "      <th>1717</th>\n",
       "      <td>2001-01-01</td>\n",
       "      <td>Atlantic provinces</td>\n",
       "      <td>3.613</td>\n",
       "      <td>2001</td>\n",
       "      <td>1</td>\n",
       "    </tr>\n",
       "    <tr>\n",
       "      <th>1718</th>\n",
       "      <td>2001-01-01</td>\n",
       "      <td>Newfoundland and Labrador</td>\n",
       "      <td>0.207</td>\n",
       "      <td>2001</td>\n",
       "      <td>1</td>\n",
       "    </tr>\n",
       "    <tr>\n",
       "      <th>1719</th>\n",
       "      <td>2001-01-01</td>\n",
       "      <td>Prince Edward Island</td>\n",
       "      <td>0.332</td>\n",
       "      <td>2001</td>\n",
       "      <td>1</td>\n",
       "    </tr>\n",
       "    <tr>\n",
       "      <th>1720</th>\n",
       "      <td>2001-01-01</td>\n",
       "      <td>Nova Scotia</td>\n",
       "      <td>1.235</td>\n",
       "      <td>2001</td>\n",
       "      <td>1</td>\n",
       "    </tr>\n",
       "    <tr>\n",
       "      <th>1721</th>\n",
       "      <td>2001-01-01</td>\n",
       "      <td>New Brunswick</td>\n",
       "      <td>1.839</td>\n",
       "      <td>2001</td>\n",
       "      <td>1</td>\n",
       "    </tr>\n",
       "  </tbody>\n",
       "</table>\n",
       "</div>"
      ],
      "text/plain": [
       "       REF_DATE                        GEO  VALUE  year  month\n",
       "1717 2001-01-01         Atlantic provinces  3.613  2001      1\n",
       "1718 2001-01-01  Newfoundland and Labrador  0.207  2001      1\n",
       "1719 2001-01-01       Prince Edward Island  0.332  2001      1\n",
       "1720 2001-01-01                Nova Scotia  1.235  2001      1\n",
       "1721 2001-01-01              New Brunswick  1.839  2001      1"
      ]
     },
     "execution_count": 81,
     "metadata": {},
     "output_type": "execute_result"
    }
   ],
   "source": [
    "df_01_11 = df[(df.year >= 2001) & (df.year <= 2011)]\n",
    "df_01_11.head()"
   ]
  },
  {
   "cell_type": "code",
   "execution_count": 82,
   "metadata": {},
   "outputs": [
    {
     "data": {
      "text/plain": [
       "<matplotlib.axes._subplots.AxesSubplot at 0x1a2c7f9668>"
      ]
     },
     "execution_count": 82,
     "metadata": {},
     "output_type": "execute_result"
    },
    {
     "data": {
      "image/png": "[encoded data removed]",
      "text/plain": [
       "<Figure size 1440x576 with 2 Axes>"
      ]
     },
     "metadata": {
      "needs_background": "light"
     },
     "output_type": "display_data"
    }
   ],
   "source": [
    "fig, axes = plt.subplots(nrows=1, ncols=2)\n",
    "fig.set_size_inches(20,8)\n",
    "\n",
    "sns.barplot(data=df_01_11, x='year', y='VALUE', ax=axes[0])\n",
    "sns.barplot(data=df_01_11, x='month', y='VALUE', ax=axes[1])"
   ]
  },
  {
   "cell_type": "code",
   "execution_count": 91,
   "metadata": {},
   "outputs": [
    {
     "data": {
      "text/plain": [
       "<matplotlib.axes._subplots.AxesSubplot at 0x1a2da6ee48>"
      ]
     },
     "execution_count": 91,
     "metadata": {},
     "output_type": "execute_result"
    },
    {
     "data": {
      "image/png": "[encoded data removed]",
      "text/plain": [
       "<Figure size 2160x576 with 1 Axes>"
      ]
     },
     "metadata": {
      "needs_background": "light"
     },
     "output_type": "display_data"
    }
   ],
   "source": [
    "fig, axes = plt.subplots(nrows=1, ncols=1)\n",
    "fig.set_size_inches(30,8)\n",
    "\n",
    "sns.barplot(data=df_01_11, x='GEO', y='VALUE', ax=axes)"
   ]
  },
  {
   "cell_type": "code",
   "execution_count": 83,
   "metadata": {},
   "outputs": [
    {
     "data": {
      "text/html": [
       "<div>\n",
       "<style scoped>\n",
       "    .dataframe tbody tr th:only-of-type {\n",
       "        vertical-align: middle;\n",
       "    }\n",
       "\n",
       "    .dataframe tbody tr th {\n",
       "        vertical-align: top;\n",
       "    }\n",
       "\n",
       "    .dataframe thead th {\n",
       "        text-align: right;\n",
       "    }\n",
       "</style>\n",
       "<table border=\"1\" class=\"dataframe\">\n",
       "  <thead>\n",
       "    <tr style=\"text-align: right;\">\n",
       "      <th></th>\n",
       "      <th>REF_DATE</th>\n",
       "      <th>GEO</th>\n",
       "      <th>VALUE</th>\n",
       "      <th>year</th>\n",
       "      <th>month</th>\n",
       "    </tr>\n",
       "  </thead>\n",
       "  <tbody>\n",
       "    <tr>\n",
       "      <th>3433</th>\n",
       "      <td>2012-01-01</td>\n",
       "      <td>Atlantic provinces</td>\n",
       "      <td>2.728</td>\n",
       "      <td>2012</td>\n",
       "      <td>1</td>\n",
       "    </tr>\n",
       "    <tr>\n",
       "      <th>3434</th>\n",
       "      <td>2012-01-01</td>\n",
       "      <td>Newfoundland and Labrador</td>\n",
       "      <td>1.234</td>\n",
       "      <td>2012</td>\n",
       "      <td>1</td>\n",
       "    </tr>\n",
       "    <tr>\n",
       "      <th>3435</th>\n",
       "      <td>2012-01-01</td>\n",
       "      <td>Prince Edward Island</td>\n",
       "      <td>0.187</td>\n",
       "      <td>2012</td>\n",
       "      <td>1</td>\n",
       "    </tr>\n",
       "    <tr>\n",
       "      <th>3436</th>\n",
       "      <td>2012-01-01</td>\n",
       "      <td>Nova Scotia</td>\n",
       "      <td>0.584</td>\n",
       "      <td>2012</td>\n",
       "      <td>1</td>\n",
       "    </tr>\n",
       "    <tr>\n",
       "      <th>3437</th>\n",
       "      <td>2012-01-01</td>\n",
       "      <td>New Brunswick</td>\n",
       "      <td>0.723</td>\n",
       "      <td>2012</td>\n",
       "      <td>1</td>\n",
       "    </tr>\n",
       "  </tbody>\n",
       "</table>\n",
       "</div>"
      ],
      "text/plain": [
       "       REF_DATE                        GEO  VALUE  year  month\n",
       "3433 2012-01-01         Atlantic provinces  2.728  2012      1\n",
       "3434 2012-01-01  Newfoundland and Labrador  1.234  2012      1\n",
       "3435 2012-01-01       Prince Edward Island  0.187  2012      1\n",
       "3436 2012-01-01                Nova Scotia  0.584  2012      1\n",
       "3437 2012-01-01              New Brunswick  0.723  2012      1"
      ]
     },
     "execution_count": 83,
     "metadata": {},
     "output_type": "execute_result"
    }
   ],
   "source": [
    "df_11_19 = df[(df.year >= 2012)]\n",
    "df_11_19.head()"
   ]
  },
  {
   "cell_type": "code",
   "execution_count": 84,
   "metadata": {},
   "outputs": [
    {
     "data": {
      "text/plain": [
       "<matplotlib.axes._subplots.AxesSubplot at 0x1a2cb74cf8>"
      ]
     },
     "execution_count": 84,
     "metadata": {},
     "output_type": "execute_result"
    },
    {
     "data": {
      "image/png": "[encoded data removed]",
      "text/plain": [
       "<Figure size 1440x576 with 2 Axes>"
      ]
     },
     "metadata": {
      "needs_background": "light"
     },
     "output_type": "display_data"
    }
   ],
   "source": [
    "fig, axes = plt.subplots(nrows=1, ncols=2)\n",
    "fig.set_size_inches(20,8)\n",
    "\n",
    "sns.barplot(data=df_11_19, x='year', y='VALUE', ax=axes[0])\n",
    "sns.barplot(data=df_11_19, x='month', y='VALUE', ax=axes[1])"
   ]
  },
  {
   "cell_type": "code",
   "execution_count": 92,
   "metadata": {},
   "outputs": [
    {
     "data": {
      "text/plain": [
       "<matplotlib.axes._subplots.AxesSubplot at 0x1a2e058518>"
      ]
     },
     "execution_count": 92,
     "metadata": {},
     "output_type": "execute_result"
    },
    {
     "data": {
      "image/png": "[encoded data removed]",
      "text/plain": [
       "<Figure size 2160x576 with 1 Axes>"
      ]
     },
     "metadata": {
      "needs_background": "light"
     },
     "output_type": "display_data"
    }
   ],
   "source": [
    "fig, axes = plt.subplots(nrows=1, ncols=1)\n",
    "fig.set_size_inches(30,8)\n",
    "\n",
    "sns.barplot(data=df_11_19, x='GEO', y='VALUE', ax=axes)"
   ]
  },
  {
   "cell_type": "code",
   "execution_count": null,
   "metadata": {},
   "outputs": [],
   "source": []
  }
 ],
 "metadata": {
  "kernelspec": {
   "display_name": "Python 3",
   "language": "python",
   "name": "python3"
  },
  "language_info": {
   "codemirror_mode": {
    "name": "ipython",
    "version": 3
   },
   "file_extension": ".py",
   "mimetype": "text/x-python",
   "name": "python",
   "nbconvert_exporter": "python",
   "pygments_lexer": "ipython3",
   "version": "3.7.3"
  }
 },
 "nbformat": 4,
 "nbformat_minor": 2
}
