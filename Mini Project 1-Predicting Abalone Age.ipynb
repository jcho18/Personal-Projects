{
 "cells": [
  {
   "cell_type": "markdown",
   "metadata": {},
   "source": [
    "# data586 Mini Project 1: Predicting Abalone Age"
   ]
  },
  {
   "cell_type": "markdown",
   "metadata": {},
   "source": [
    "# Team Member: Jae Yoon Cho"
   ]
  },
  {
   "cell_type": "markdown",
   "metadata": {},
   "source": [
    "## Dataset\n",
    "- https://www.kaggle.com/rodolfomendes/abalone-dataset\n",
    "- The age of abalone is determined by cutting the shell through the cone, staining it, and counting the number of rings through a microscope -- a boring and time-consuming task. \n",
    "\n",
    "### Labels:\n",
    "- Sex:M, F, and I (infant)\n",
    "- Length: Longest shell measurement\n",
    "- Diameter: perpendicular to length\n",
    "- Height: with meat in shell\n",
    "- Whole weight: whole abalone\n",
    "- Shucked weight: weight of meat\n",
    "- Viscera weight: gut weight (after bleeding)\n",
    "- Shell weight: after being dried\n",
    "- Rings: +1.5 gives the age in years"
   ]
  },
  {
   "cell_type": "markdown",
   "metadata": {},
   "source": [
    "## Main Goal\n",
    "- The main purpose of this project is to predict the Abalone age"
   ]
  },
  {
   "cell_type": "markdown",
   "metadata": {},
   "source": [
    "## Methodology\n",
    "\n",
    "1. Import Libraries & Load the dataset\n",
    "2. Exploratory Data Analysis\n",
    "    - Sex column is excluded\n",
    "3. Building a model\n",
    "    - For this step, I will train the model with all of the data except sex \n",
    "    - y value is assigned with Ring column which indicates the Abalone age. \n",
    "    - Declaring Sequential(), I will build model step by step using model.add() to add Dense. \n",
    "    - Compile the model with loss = mean squared error.\n",
    "4. Model Evaluation"
   ]
  },
  {
   "cell_type": "markdown",
   "metadata": {},
   "source": [
    "### Import libraries"
   ]
  },
  {
   "cell_type": "code",
   "execution_count": 19,
   "metadata": {},
   "outputs": [],
   "source": [
    "import pandas as pd\n",
    "import numpy as np\n",
    "import matplotlib.pyplot as plt\n",
    "import seaborn as sns\n",
    "from sklearn.model_selection import train_test_split\n",
    "from sklearn.preprocessing import LabelEncoder\n",
    "from keras.models import Model, Sequential\n",
    "from keras.layers import Dense\n",
    "from keras.utils import to_categorical\n",
    "from keras.callbacks import EarlyStopping"
   ]
  },
  {
   "cell_type": "markdown",
   "metadata": {},
   "source": [
    "### EDA"
   ]
  },
  {
   "cell_type": "code",
   "execution_count": 20,
   "metadata": {},
   "outputs": [
    {
     "data": {
      "text/html": [
       "<div>\n",
       "<style scoped>\n",
       "    .dataframe tbody tr th:only-of-type {\n",
       "        vertical-align: middle;\n",
       "    }\n",
       "\n",
       "    .dataframe tbody tr th {\n",
       "        vertical-align: top;\n",
       "    }\n",
       "\n",
       "    .dataframe thead th {\n",
       "        text-align: right;\n",
       "    }\n",
       "</style>\n",
       "<table border=\"1\" class=\"dataframe\">\n",
       "  <thead>\n",
       "    <tr style=\"text-align: right;\">\n",
       "      <th></th>\n",
       "      <th>Sex</th>\n",
       "      <th>Length</th>\n",
       "      <th>Diameter</th>\n",
       "      <th>Height</th>\n",
       "      <th>Whole weight</th>\n",
       "      <th>Shucked weight</th>\n",
       "      <th>Viscera weight</th>\n",
       "      <th>Shell weight</th>\n",
       "      <th>Rings</th>\n",
       "    </tr>\n",
       "  </thead>\n",
       "  <tbody>\n",
       "    <tr>\n",
       "      <th>0</th>\n",
       "      <td>M</td>\n",
       "      <td>0.455</td>\n",
       "      <td>0.365</td>\n",
       "      <td>0.095</td>\n",
       "      <td>0.5140</td>\n",
       "      <td>0.2245</td>\n",
       "      <td>0.1010</td>\n",
       "      <td>0.150</td>\n",
       "      <td>15</td>\n",
       "    </tr>\n",
       "    <tr>\n",
       "      <th>1</th>\n",
       "      <td>M</td>\n",
       "      <td>0.350</td>\n",
       "      <td>0.265</td>\n",
       "      <td>0.090</td>\n",
       "      <td>0.2255</td>\n",
       "      <td>0.0995</td>\n",
       "      <td>0.0485</td>\n",
       "      <td>0.070</td>\n",
       "      <td>7</td>\n",
       "    </tr>\n",
       "    <tr>\n",
       "      <th>2</th>\n",
       "      <td>F</td>\n",
       "      <td>0.530</td>\n",
       "      <td>0.420</td>\n",
       "      <td>0.135</td>\n",
       "      <td>0.6770</td>\n",
       "      <td>0.2565</td>\n",
       "      <td>0.1415</td>\n",
       "      <td>0.210</td>\n",
       "      <td>9</td>\n",
       "    </tr>\n",
       "    <tr>\n",
       "      <th>3</th>\n",
       "      <td>M</td>\n",
       "      <td>0.440</td>\n",
       "      <td>0.365</td>\n",
       "      <td>0.125</td>\n",
       "      <td>0.5160</td>\n",
       "      <td>0.2155</td>\n",
       "      <td>0.1140</td>\n",
       "      <td>0.155</td>\n",
       "      <td>10</td>\n",
       "    </tr>\n",
       "    <tr>\n",
       "      <th>4</th>\n",
       "      <td>I</td>\n",
       "      <td>0.330</td>\n",
       "      <td>0.255</td>\n",
       "      <td>0.080</td>\n",
       "      <td>0.2050</td>\n",
       "      <td>0.0895</td>\n",
       "      <td>0.0395</td>\n",
       "      <td>0.055</td>\n",
       "      <td>7</td>\n",
       "    </tr>\n",
       "  </tbody>\n",
       "</table>\n",
       "</div>"
      ],
      "text/plain": [
       "  Sex  Length  Diameter  Height  Whole weight  Shucked weight  Viscera weight  \\\n",
       "0   M   0.455     0.365   0.095        0.5140          0.2245          0.1010   \n",
       "1   M   0.350     0.265   0.090        0.2255          0.0995          0.0485   \n",
       "2   F   0.530     0.420   0.135        0.6770          0.2565          0.1415   \n",
       "3   M   0.440     0.365   0.125        0.5160          0.2155          0.1140   \n",
       "4   I   0.330     0.255   0.080        0.2050          0.0895          0.0395   \n",
       "\n",
       "   Shell weight  Rings  \n",
       "0         0.150     15  \n",
       "1         0.070      7  \n",
       "2         0.210      9  \n",
       "3         0.155     10  \n",
       "4         0.055      7  "
      ]
     },
     "execution_count": 20,
     "metadata": {},
     "output_type": "execute_result"
    }
   ],
   "source": [
    "df = pd.read_csv('abalone.csv')\n",
    "df.head()"
   ]
  },
  {
   "cell_type": "code",
   "execution_count": 21,
   "metadata": {},
   "outputs": [],
   "source": [
    "df.drop(['Sex'], axis=1, inplace=True)"
   ]
  },
  {
   "cell_type": "code",
   "execution_count": 22,
   "metadata": {},
   "outputs": [
    {
     "data": {
      "text/html": [
       "<div>\n",
       "<style scoped>\n",
       "    .dataframe tbody tr th:only-of-type {\n",
       "        vertical-align: middle;\n",
       "    }\n",
       "\n",
       "    .dataframe tbody tr th {\n",
       "        vertical-align: top;\n",
       "    }\n",
       "\n",
       "    .dataframe thead th {\n",
       "        text-align: right;\n",
       "    }\n",
       "</style>\n",
       "<table border=\"1\" class=\"dataframe\">\n",
       "  <thead>\n",
       "    <tr style=\"text-align: right;\">\n",
       "      <th></th>\n",
       "      <th>Length</th>\n",
       "      <th>Diameter</th>\n",
       "      <th>Height</th>\n",
       "      <th>Whole weight</th>\n",
       "      <th>Shucked weight</th>\n",
       "      <th>Viscera weight</th>\n",
       "      <th>Shell weight</th>\n",
       "      <th>Rings</th>\n",
       "    </tr>\n",
       "  </thead>\n",
       "  <tbody>\n",
       "    <tr>\n",
       "      <th>0</th>\n",
       "      <td>0.455</td>\n",
       "      <td>0.365</td>\n",
       "      <td>0.095</td>\n",
       "      <td>0.5140</td>\n",
       "      <td>0.2245</td>\n",
       "      <td>0.1010</td>\n",
       "      <td>0.150</td>\n",
       "      <td>15</td>\n",
       "    </tr>\n",
       "    <tr>\n",
       "      <th>1</th>\n",
       "      <td>0.350</td>\n",
       "      <td>0.265</td>\n",
       "      <td>0.090</td>\n",
       "      <td>0.2255</td>\n",
       "      <td>0.0995</td>\n",
       "      <td>0.0485</td>\n",
       "      <td>0.070</td>\n",
       "      <td>7</td>\n",
       "    </tr>\n",
       "    <tr>\n",
       "      <th>2</th>\n",
       "      <td>0.530</td>\n",
       "      <td>0.420</td>\n",
       "      <td>0.135</td>\n",
       "      <td>0.6770</td>\n",
       "      <td>0.2565</td>\n",
       "      <td>0.1415</td>\n",
       "      <td>0.210</td>\n",
       "      <td>9</td>\n",
       "    </tr>\n",
       "    <tr>\n",
       "      <th>3</th>\n",
       "      <td>0.440</td>\n",
       "      <td>0.365</td>\n",
       "      <td>0.125</td>\n",
       "      <td>0.5160</td>\n",
       "      <td>0.2155</td>\n",
       "      <td>0.1140</td>\n",
       "      <td>0.155</td>\n",
       "      <td>10</td>\n",
       "    </tr>\n",
       "    <tr>\n",
       "      <th>4</th>\n",
       "      <td>0.330</td>\n",
       "      <td>0.255</td>\n",
       "      <td>0.080</td>\n",
       "      <td>0.2050</td>\n",
       "      <td>0.0895</td>\n",
       "      <td>0.0395</td>\n",
       "      <td>0.055</td>\n",
       "      <td>7</td>\n",
       "    </tr>\n",
       "  </tbody>\n",
       "</table>\n",
       "</div>"
      ],
      "text/plain": [
       "   Length  Diameter  Height  Whole weight  Shucked weight  Viscera weight  \\\n",
       "0   0.455     0.365   0.095        0.5140          0.2245          0.1010   \n",
       "1   0.350     0.265   0.090        0.2255          0.0995          0.0485   \n",
       "2   0.530     0.420   0.135        0.6770          0.2565          0.1415   \n",
       "3   0.440     0.365   0.125        0.5160          0.2155          0.1140   \n",
       "4   0.330     0.255   0.080        0.2050          0.0895          0.0395   \n",
       "\n",
       "   Shell weight  Rings  \n",
       "0         0.150     15  \n",
       "1         0.070      7  \n",
       "2         0.210      9  \n",
       "3         0.155     10  \n",
       "4         0.055      7  "
      ]
     },
     "execution_count": 22,
     "metadata": {},
     "output_type": "execute_result"
    }
   ],
   "source": [
    "df.head()"
   ]
  },
  {
   "cell_type": "code",
   "execution_count": 23,
   "metadata": {},
   "outputs": [],
   "source": [
    "import missingno as msno"
   ]
  },
  {
   "cell_type": "code",
   "execution_count": 24,
   "metadata": {},
   "outputs": [
    {
     "data": {
      "text/plain": [
       "<matplotlib.axes._subplots.AxesSubplot at 0x1466cc198>"
      ]
     },
     "execution_count": 24,
     "metadata": {},
     "output_type": "execute_result"
    },
    {
     "data": {
      "image/png": "[encoded data removed]",
      "text/plain": [
       "<Figure size 1800x720 with 2 Axes>"
      ]
     },
     "metadata": {
      "needs_background": "light"
     },
     "output_type": "display_data"
    }
   ],
   "source": [
    "msno.matrix(df)"
   ]
  },
  {
   "cell_type": "markdown",
   "metadata": {},
   "source": [
    "### Building a Model"
   ]
  },
  {
   "cell_type": "code",
   "execution_count": 25,
   "metadata": {},
   "outputs": [],
   "source": [
    "x = df.iloc[:, 0:7].values\n",
    "y = df.iloc[:, 7].values\n",
    "x_train, x_test, y_train, y_test = train_test_split(x, y, test_size=0.2, random_state=3)"
   ]
  },
  {
   "cell_type": "code",
   "execution_count": 26,
   "metadata": {},
   "outputs": [
    {
     "name": "stdout",
     "output_type": "stream",
     "text": [
      "Epoch 1/100\n",
      "3341/3341 [==============================] - 0s 92us/step - loss: 51.1417\n",
      "Epoch 2/100\n",
      "3341/3341 [==============================] - 0s 69us/step - loss: 7.9195\n",
      "Epoch 3/100\n",
      "3341/3341 [==============================] - 0s 70us/step - loss: 7.2181\n",
      "Epoch 4/100\n",
      "3341/3341 [==============================] - 0s 67us/step - loss: 6.7549\n",
      "Epoch 5/100\n",
      "3341/3341 [==============================] - 0s 63us/step - loss: 6.5108\n",
      "Epoch 6/100\n",
      "3341/3341 [==============================] - 0s 60us/step - loss: 6.3285\n",
      "Epoch 7/100\n",
      "3341/3341 [==============================] - 0s 64us/step - loss: 6.1461\n",
      "Epoch 8/100\n",
      "3341/3341 [==============================] - 0s 62us/step - loss: 5.9439\n",
      "Epoch 9/100\n",
      "3341/3341 [==============================] - 0s 65us/step - loss: 5.7840\n",
      "Epoch 10/100\n",
      "3341/3341 [==============================] - 0s 66us/step - loss: 5.5623\n",
      "Epoch 11/100\n",
      "3341/3341 [==============================] - 0s 65us/step - loss: 5.3801\n",
      "Epoch 12/100\n",
      "3341/3341 [==============================] - 0s 59us/step - loss: 5.2644\n",
      "Epoch 13/100\n",
      "3341/3341 [==============================] - 0s 63us/step - loss: 5.1860\n",
      "Epoch 14/100\n",
      "3341/3341 [==============================] - 0s 65us/step - loss: 5.1396\n",
      "Epoch 15/100\n",
      "3341/3341 [==============================] - 0s 63us/step - loss: 5.0952\n",
      "Epoch 16/100\n",
      "3341/3341 [==============================] - 0s 65us/step - loss: 5.0489\n",
      "Epoch 17/100\n",
      "3341/3341 [==============================] - 0s 64us/step - loss: 5.0312\n",
      "Epoch 18/100\n",
      "3341/3341 [==============================] - 0s 65us/step - loss: 5.0168\n",
      "Epoch 19/100\n",
      "3341/3341 [==============================] - 0s 66us/step - loss: 5.0249\n",
      "Epoch 20/100\n",
      "3341/3341 [==============================] - 0s 66us/step - loss: 5.0225\n",
      "Epoch 21/100\n",
      "3341/3341 [==============================] - 0s 67us/step - loss: 4.9922\n",
      "Epoch 22/100\n",
      "3341/3341 [==============================] - 0s 66us/step - loss: 4.9739\n",
      "Epoch 23/100\n",
      "3341/3341 [==============================] - 0s 65us/step - loss: 4.9979\n",
      "Epoch 24/100\n",
      "3341/3341 [==============================] - 0s 65us/step - loss: 4.9950\n",
      "Epoch 25/100\n",
      "3341/3341 [==============================] - 0s 62us/step - loss: 4.9807\n",
      "Epoch 26/100\n",
      "3341/3341 [==============================] - 0s 66us/step - loss: 4.9877\n",
      "Epoch 27/100\n",
      "3341/3341 [==============================] - 0s 66us/step - loss: 4.9428\n",
      "Epoch 28/100\n",
      "3341/3341 [==============================] - 0s 66us/step - loss: 4.9808\n",
      "Epoch 29/100\n",
      "3341/3341 [==============================] - 0s 67us/step - loss: 4.9911\n",
      "Epoch 30/100\n",
      "3341/3341 [==============================] - 0s 65us/step - loss: 4.9406\n",
      "Epoch 31/100\n",
      "3341/3341 [==============================] - 0s 63us/step - loss: 4.9371\n",
      "Epoch 32/100\n",
      "3341/3341 [==============================] - 0s 66us/step - loss: 5.0117\n",
      "Epoch 33/100\n",
      "3341/3341 [==============================] - 0s 65us/step - loss: 4.9066\n",
      "Epoch 34/100\n",
      "3341/3341 [==============================] - 0s 66us/step - loss: 4.9253\n",
      "Epoch 35/100\n",
      "3341/3341 [==============================] - 0s 64us/step - loss: 4.9313\n",
      "Epoch 36/100\n",
      "3341/3341 [==============================] - 0s 66us/step - loss: 4.9302\n",
      "Epoch 37/100\n",
      "3341/3341 [==============================] - 0s 66us/step - loss: 4.9258\n",
      "Epoch 38/100\n",
      "3341/3341 [==============================] - 0s 66us/step - loss: 4.9138\n",
      "Epoch 39/100\n",
      "3341/3341 [==============================] - 0s 66us/step - loss: 4.8985\n",
      "Epoch 40/100\n",
      "3341/3341 [==============================] - 0s 65us/step - loss: 4.9156\n",
      "Epoch 41/100\n",
      "3341/3341 [==============================] - 0s 65us/step - loss: 4.9135\n",
      "Epoch 42/100\n",
      "3341/3341 [==============================] - 0s 66us/step - loss: 4.9115\n",
      "Epoch 43/100\n",
      "3341/3341 [==============================] - 0s 61us/step - loss: 4.9077\n",
      "Epoch 44/100\n",
      "3341/3341 [==============================] - 0s 65us/step - loss: 4.8881\n",
      "Epoch 45/100\n",
      "3341/3341 [==============================] - 0s 65us/step - loss: 4.8821\n",
      "Epoch 46/100\n",
      "3341/3341 [==============================] - 0s 64us/step - loss: 4.8646\n",
      "Epoch 47/100\n",
      "3341/3341 [==============================] - 0s 64us/step - loss: 4.8824\n",
      "Epoch 48/100\n",
      "3341/3341 [==============================] - 0s 66us/step - loss: 4.8913\n",
      "Epoch 49/100\n",
      "3341/3341 [==============================] - 0s 65us/step - loss: 4.8632\n",
      "Epoch 50/100\n",
      "3341/3341 [==============================] - 0s 66us/step - loss: 4.8677\n",
      "Epoch 51/100\n",
      "3341/3341 [==============================] - 0s 66us/step - loss: 4.8856\n",
      "Epoch 52/100\n",
      "3341/3341 [==============================] - 0s 66us/step - loss: 4.8549\n",
      "Epoch 53/100\n",
      "3341/3341 [==============================] - 0s 67us/step - loss: 4.8703\n",
      "Epoch 54/100\n",
      "3341/3341 [==============================] - 0s 66us/step - loss: 4.8511\n",
      "Epoch 55/100\n",
      "3341/3341 [==============================] - 0s 65us/step - loss: 4.8566\n",
      "Epoch 56/100\n",
      "3341/3341 [==============================] - 0s 65us/step - loss: 4.8529\n",
      "Epoch 57/100\n",
      "3341/3341 [==============================] - 0s 66us/step - loss: 4.8508\n",
      "Epoch 58/100\n",
      "3341/3341 [==============================] - 0s 65us/step - loss: 4.8198\n",
      "Epoch 59/100\n",
      "3341/3341 [==============================] - 0s 65us/step - loss: 4.8676\n",
      "Epoch 60/100\n",
      "3341/3341 [==============================] - 0s 66us/step - loss: 4.8521\n",
      "Epoch 61/100\n",
      "3341/3341 [==============================] - 0s 65us/step - loss: 4.8255\n",
      "Epoch 62/100\n",
      "3341/3341 [==============================] - 0s 65us/step - loss: 4.8186\n",
      "Epoch 63/100\n",
      "3341/3341 [==============================] - 0s 65us/step - loss: 4.8381\n",
      "Epoch 64/100\n",
      "3341/3341 [==============================] - 0s 66us/step - loss: 4.8246\n",
      "Epoch 65/100\n",
      "3341/3341 [==============================] - 0s 66us/step - loss: 4.8314\n",
      "Epoch 66/100\n",
      "3341/3341 [==============================] - 0s 65us/step - loss: 4.8776\n",
      "Epoch 67/100\n",
      "3341/3341 [==============================] - 0s 62us/step - loss: 4.8374\n",
      "Epoch 68/100\n",
      "3341/3341 [==============================] - 0s 66us/step - loss: 4.8232\n",
      "Epoch 69/100\n",
      "3341/3341 [==============================] - 0s 66us/step - loss: 4.8429\n",
      "Epoch 70/100\n",
      "3341/3341 [==============================] - 0s 66us/step - loss: 4.8411\n",
      "Epoch 71/100\n",
      "3341/3341 [==============================] - 0s 65us/step - loss: 4.8088\n",
      "Epoch 72/100\n",
      "3341/3341 [==============================] - 0s 63us/step - loss: 4.8148\n",
      "Epoch 73/100\n",
      "3341/3341 [==============================] - 0s 65us/step - loss: 4.8048\n",
      "Epoch 74/100\n",
      "3341/3341 [==============================] - 0s 63us/step - loss: 4.7966\n",
      "Epoch 75/100\n",
      "3341/3341 [==============================] - 0s 66us/step - loss: 4.8203\n",
      "Epoch 76/100\n",
      "3341/3341 [==============================] - 0s 66us/step - loss: 4.7808\n",
      "Epoch 77/100\n",
      "3341/3341 [==============================] - 0s 66us/step - loss: 4.8157\n",
      "Epoch 78/100\n",
      "3341/3341 [==============================] - 0s 66us/step - loss: 4.8271\n",
      "Epoch 79/100\n",
      "3341/3341 [==============================] - 0s 66us/step - loss: 4.8050\n",
      "Epoch 80/100\n",
      "3341/3341 [==============================] - 0s 66us/step - loss: 4.7877\n",
      "Epoch 81/100\n",
      "3341/3341 [==============================] - 0s 66us/step - loss: 4.7855\n",
      "Epoch 82/100\n",
      "3341/3341 [==============================] - 0s 64us/step - loss: 4.8078\n",
      "Epoch 83/100\n",
      "3341/3341 [==============================] - 0s 65us/step - loss: 4.8088\n",
      "Epoch 84/100\n",
      "3341/3341 [==============================] - 0s 66us/step - loss: 4.8191\n",
      "Epoch 85/100\n",
      "3341/3341 [==============================] - 0s 66us/step - loss: 4.7789\n",
      "Epoch 86/100\n",
      "3341/3341 [==============================] - 0s 66us/step - loss: 4.7833\n",
      "Epoch 87/100\n",
      "3341/3341 [==============================] - 0s 66us/step - loss: 4.8129\n",
      "Epoch 88/100\n",
      "3341/3341 [==============================] - 0s 66us/step - loss: 4.7536\n",
      "Epoch 89/100\n",
      "3341/3341 [==============================] - 0s 66us/step - loss: 4.7766\n",
      "Epoch 90/100\n",
      "3341/3341 [==============================] - 0s 65us/step - loss: 4.7920\n",
      "Epoch 91/100\n",
      "3341/3341 [==============================] - 0s 65us/step - loss: 4.7774\n",
      "Epoch 92/100\n",
      "3341/3341 [==============================] - 0s 66us/step - loss: 4.7828\n",
      "Epoch 93/100\n",
      "3341/3341 [==============================] - 0s 65us/step - loss: 4.8036\n",
      "Epoch 94/100\n",
      "3341/3341 [==============================] - 0s 66us/step - loss: 4.7938\n",
      "Epoch 95/100\n",
      "3341/3341 [==============================] - 0s 66us/step - loss: 4.7401\n",
      "Epoch 96/100\n"
     ]
    },
    {
     "name": "stdout",
     "output_type": "stream",
     "text": [
      "3341/3341 [==============================] - 0s 65us/step - loss: 4.7798\n",
      "Epoch 97/100\n",
      "3341/3341 [==============================] - 0s 66us/step - loss: 4.7630\n",
      "Epoch 98/100\n",
      "3341/3341 [==============================] - 0s 67us/step - loss: 4.7801\n",
      "Epoch 99/100\n",
      "3341/3341 [==============================] - 0s 65us/step - loss: 4.7622\n",
      "Epoch 100/100\n",
      "3341/3341 [==============================] - 0s 66us/step - loss: 4.7917\n"
     ]
    },
    {
     "data": {
      "text/plain": [
       "<keras.callbacks.callbacks.History at 0x1425645c0>"
      ]
     },
     "execution_count": 26,
     "metadata": {},
     "output_type": "execute_result"
    }
   ],
   "source": [
    "model = Sequential()\n",
    "model.add(Dense(30, input_dim=x.shape[1], activation='relu'))\n",
    "model.add(Dense(7, activation='relu'))\n",
    "model.add(Dense(1)) \n",
    "model.compile(loss='mean_squared_error', optimizer='adam')\n",
    "model.fit(x_train, y_train, epochs=100, batch_size=10)"
   ]
  },
  {
   "cell_type": "markdown",
   "metadata": {},
   "source": [
    "### Model Evaluation"
   ]
  },
  {
   "cell_type": "code",
   "execution_count": 29,
   "metadata": {},
   "outputs": [
    {
     "name": "stdout",
     "output_type": "stream",
     "text": [
      "Actual Abalone Age :11.00, Predicted Abalone Age : 10.56\n",
      "Actual Abalone Age :12.00, Predicted Abalone Age : 11.25\n",
      "Actual Abalone Age :10.00, Predicted Abalone Age : 11.22\n",
      "Actual Abalone Age :9.00, Predicted Abalone Age : 11.37\n",
      "Actual Abalone Age :9.00, Predicted Abalone Age : 10.28\n",
      "Actual Abalone Age :8.00, Predicted Abalone Age : 9.35\n",
      "Actual Abalone Age :8.00, Predicted Abalone Age : 8.96\n",
      "Actual Abalone Age :13.00, Predicted Abalone Age : 12.77\n",
      "Actual Abalone Age :9.00, Predicted Abalone Age : 10.70\n",
      "Actual Abalone Age :11.00, Predicted Abalone Age : 8.27\n"
     ]
    }
   ],
   "source": [
    "predict = model.predict(x_test).flatten()\n",
    "for i in range(10):\n",
    "    label = y_test[i]\n",
    "    prediction= predict[i]\n",
    "    print(\"Actual Abalone Age :{:.2f}, Predicted Abalone Age : {:.2f}\".format(label, prediction))"
   ]
  },
  {
   "cell_type": "markdown",
   "metadata": {},
   "source": [
    "### Conclusion\n",
    "- It seem that the model accrately predicted the abalone age. \n",
    "- I built this model because it will help me to predict other numerical data in the future. (ex. house price, stock price)"
   ]
  },
  {
   "cell_type": "code",
   "execution_count": null,
   "metadata": {},
   "outputs": [],
   "source": []
  }
 ],
 "metadata": {
  "kernelspec": {
   "display_name": "Python 3",
   "language": "python",
   "name": "python3"
  },
  "language_info": {
   "codemirror_mode": {
    "name": "ipython",
    "version": 3
   },
   "file_extension": ".py",
   "mimetype": "text/x-python",
   "name": "python",
   "nbconvert_exporter": "python",
   "pygments_lexer": "ipython3",
   "version": "3.7.3"
  }
 },
 "nbformat": 4,
 "nbformat_minor": 2
}
